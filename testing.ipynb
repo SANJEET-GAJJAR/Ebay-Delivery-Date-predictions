{
 "cells": [
  {
   "cell_type": "code",
   "execution_count": 1,
   "id": "6df92927",
   "metadata": {},
   "outputs": [],
   "source": [
    "#importing relevant libraries\n",
    "import pandas as pd\n",
    "import numpy as np\n",
    "import matplotlib.pyplot as plt\n",
    "import seaborn as sns\n",
    "\n",
    "\n",
    "from sklearn.model_selection import train_test_split\n",
    "\n",
    "from sklearn.linear_model import LinearRegression\n",
    "\n",
    "from sklearn.metrics import mean_squared_error, r2_score"
   ]
  },
  {
   "cell_type": "code",
   "execution_count": 2,
   "id": "c3b37a58",
   "metadata": {},
   "outputs": [],
   "source": [
    "#loading dataset\n",
    "d1 = pd.read_csv('D:/snajeet/Sanjeet/test.tsv', encoding= 'unicode_escape', sep='\\t')"
   ]
  },
  {
   "cell_type": "code",
   "execution_count": 3,
   "id": "9e8cb2fc",
   "metadata": {},
   "outputs": [],
   "source": [
    "#loading zips\n",
    "d2 = pd.read_csv('D:/snajeet/Sanjeet/uszips.csv')"
   ]
  },
  {
   "cell_type": "code",
   "execution_count": 4,
   "id": "74f92389",
   "metadata": {},
   "outputs": [],
   "source": [
    "#d2 has a lot of unnecessary information. Hence selecting necessary information anly\n",
    "d2  = d2[['zip', 'lat', 'lng']]"
   ]
  },
  {
   "cell_type": "code",
   "execution_count": 5,
   "id": "71c8d01f",
   "metadata": {},
   "outputs": [
    {
     "name": "stdout",
     "output_type": "stream",
     "text": [
      "<class 'pandas.core.frame.DataFrame'>\n",
      "RangeIndex: 2500000 entries, 0 to 2499999\n",
      "Data columns (total 19 columns):\n",
      " #   Column                     Dtype  \n",
      "---  ------                     -----  \n",
      " 0   b2c_c2c                    object \n",
      " 1   seller_id                  int64  \n",
      " 2   declared_handling_days     float64\n",
      " 3   acceptance_scan_timestamp  object \n",
      " 4   shipment_method_id         int64  \n",
      " 5   shipping_fee               float64\n",
      " 6   carrier_min_estimate       int64  \n",
      " 7   carrier_max_estimate       int64  \n",
      " 8   item_zip                   object \n",
      " 9   buyer_zip                  object \n",
      " 10  category_id                int64  \n",
      " 11  item_price                 float64\n",
      " 12  quantity                   int64  \n",
      " 13  payment_datetime           object \n",
      " 14  delivery_date              float64\n",
      " 15  weight                     int64  \n",
      " 16  weight_units               int64  \n",
      " 17  package_size               object \n",
      " 18  record_number              int64  \n",
      "dtypes: float64(4), int64(9), object(6)\n",
      "memory usage: 362.4+ MB\n"
     ]
    }
   ],
   "source": [
    "d1.info()"
   ]
  },
  {
   "cell_type": "code",
   "execution_count": 6,
   "id": "4aa5a272",
   "metadata": {},
   "outputs": [
    {
     "data": {
      "text/plain": [
       "Index(['b2c_c2c', 'seller_id', 'declared_handling_days',\n",
       "       'acceptance_scan_timestamp', 'shipment_method_id', 'shipping_fee',\n",
       "       'carrier_min_estimate', 'carrier_max_estimate', 'item_zip', 'buyer_zip',\n",
       "       'category_id', 'item_price', 'quantity', 'payment_datetime',\n",
       "       'delivery_date', 'weight', 'weight_units', 'package_size',\n",
       "       'record_number'],\n",
       "      dtype='object')"
      ]
     },
     "execution_count": 6,
     "metadata": {},
     "output_type": "execute_result"
    }
   ],
   "source": [
    "d1.columns"
   ]
  },
  {
   "cell_type": "code",
   "execution_count": 7,
   "id": "bf35b743",
   "metadata": {},
   "outputs": [],
   "source": [
    "#converting item_zip from object to a number\n",
    "items = []\n",
    "for item in d1['item_zip']:\n",
    "    #checking if the item is a string\n",
    "    if isinstance(item, str):\n",
    "        #remove comma if any\n",
    "        item = item.replace(\",\", \"\")\n",
    "        #parsing length to 5\n",
    "        item = item[:5]\n",
    "        #spliting on delimeter if any\n",
    "        item = item.split(\"-\")[0]\n",
    "    #converting into int\n",
    "    try:\n",
    "        item = int(item)\n",
    "    except:\n",
    "        item = 0\n",
    "    items.append(item)\n",
    "\n",
    "\n",
    "d1['item_zip'] = items"
   ]
  },
  {
   "cell_type": "code",
   "execution_count": 8,
   "id": "674b14f4",
   "metadata": {},
   "outputs": [],
   "source": [
    "#converting item_zip from object to a number\n",
    "items = []\n",
    "for item in d1['buyer_zip']:\n",
    "    #checking if the item is a string\n",
    "    if isinstance(item, str):\n",
    "        #remove comma if any\n",
    "        item = item.replace(\",\", \"\")\n",
    "        #parsing length to 5\n",
    "        item = item[:5]\n",
    "        #spliting on delimeter if any\n",
    "        item = item.split(\"-\")[0]\n",
    "    #converting into int\n",
    "    try:\n",
    "        item = int(item)\n",
    "    except:\n",
    "        item = 0\n",
    "    items.append(item)\n",
    "\n",
    "\n",
    "d1['buyer_zip'] = items"
   ]
  },
  {
   "cell_type": "code",
   "execution_count": 9,
   "id": "bec05f4f",
   "metadata": {},
   "outputs": [],
   "source": [
    "#parsing the payment_datetime\n",
    "items = []\n",
    "for item in d1['payment_datetime']:\n",
    "    item = item.split(\" \")[0]\n",
    "    items.append(item)\n",
    "\n",
    "d1['payment_datetime'] = items"
   ]
  },
  {
   "cell_type": "code",
   "execution_count": 10,
   "id": "e2047993",
   "metadata": {},
   "outputs": [],
   "source": [
    "#parsing the acceptance_scan_timestamp\n",
    "items = []\n",
    "for item in d1['acceptance_scan_timestamp']:\n",
    "    item = item.split(\" \")[0]\n",
    "    items.append(item)\n",
    "\n",
    "d1['acceptance_scan_timestamp'] = items"
   ]
  },
  {
   "cell_type": "code",
   "execution_count": 11,
   "id": "0cf6d59c",
   "metadata": {},
   "outputs": [],
   "source": [
    "#meerging process is two step same as in the training notebook\n",
    "merge_1 = pd.merge(d2, d1, left_on = \"zip\", right_on = \"item_zip\", how = 'right')"
   ]
  },
  {
   "cell_type": "code",
   "execution_count": 12,
   "id": "6cfdf934",
   "metadata": {},
   "outputs": [],
   "source": [
    "#renaming the columns \n",
    "merge_1.rename(columns={'lng': 'item_lng', 'lat': 'item_lat'}, inplace=True)"
   ]
  },
  {
   "cell_type": "code",
   "execution_count": 13,
   "id": "18dc5f36",
   "metadata": {},
   "outputs": [],
   "source": [
    "merge_2 = pd.merge(d2, merge_1, left_on = \"zip\", right_on = \"buyer_zip\", how = 'right')"
   ]
  },
  {
   "cell_type": "code",
   "execution_count": 14,
   "id": "a84216fa",
   "metadata": {},
   "outputs": [],
   "source": [
    "#renaming the columns \n",
    "merge_2.rename(columns={'lng': 'buyer_lng', 'lat': 'buyer_lat'}, inplace=True)"
   ]
  },
  {
   "cell_type": "code",
   "execution_count": 15,
   "id": "eb937908",
   "metadata": {},
   "outputs": [],
   "source": [
    "df = merge_2"
   ]
  },
  {
   "cell_type": "code",
   "execution_count": 16,
   "id": "ff8c1b8e",
   "metadata": {},
   "outputs": [
    {
     "data": {
      "text/plain": [
       "zip_x                          29834\n",
       "buyer_lat                      29834\n",
       "buyer_lng                      29834\n",
       "zip_y                          54688\n",
       "item_lat                       54688\n",
       "item_lng                       54688\n",
       "b2c_c2c                            0\n",
       "seller_id                          0\n",
       "declared_handling_days         14640\n",
       "acceptance_scan_timestamp          0\n",
       "shipment_method_id                 0\n",
       "shipping_fee                       0\n",
       "carrier_min_estimate               0\n",
       "carrier_max_estimate               0\n",
       "item_zip                           0\n",
       "buyer_zip                          0\n",
       "category_id                        0\n",
       "item_price                         0\n",
       "quantity                           0\n",
       "payment_datetime                   0\n",
       "delivery_date                2500000\n",
       "weight                             0\n",
       "weight_units                       0\n",
       "package_size                       0\n",
       "record_number                      0\n",
       "dtype: int64"
      ]
     },
     "execution_count": 16,
     "metadata": {},
     "output_type": "execute_result"
    }
   ],
   "source": [
    "#checking null values\n",
    "df.isnull().sum()"
   ]
  },
  {
   "cell_type": "code",
   "execution_count": 17,
   "id": "1a58d162",
   "metadata": {},
   "outputs": [],
   "source": [
    "#filling numeric value columns with forward filling technique\n",
    "df = df.fillna(method=\"ffill\")"
   ]
  },
  {
   "cell_type": "code",
   "execution_count": 18,
   "id": "34c6f1fe",
   "metadata": {},
   "outputs": [],
   "source": [
    "#for filling object columns\n",
    "df = df.mask(df=='nan', None).ffill()"
   ]
  },
  {
   "cell_type": "code",
   "execution_count": 19,
   "id": "4ad98f49",
   "metadata": {},
   "outputs": [],
   "source": [
    "#Finding the distance between the item and the buyer on the basis of longitudes and latitudes\n",
    "buyer_lng=np.radians(df['buyer_lng'])\n",
    "item_lng=np.radians(df['item_lng'])\n",
    "buyer_lat=np.radians(df['buyer_lat'])\n",
    "item_lat=np.radians(df['item_lat'])\n",
    "\n",
    "dlon = buyer_lng - item_lng\n",
    "dlat = buyer_lat - item_lat\n",
    "\n",
    "# using haversine formula\n",
    "a = np.sin(dlat/2)**2 + np.cos(buyer_lat) * np.cos(item_lat) * np.sin(dlon/2)**2\n",
    "\n",
    "c = 2 * np.arcsin(np.sqrt(a)) \n",
    "\n",
    "# Radius of earth in kilometers is 6371\n",
    "km = 6371* c\n",
    "\n",
    "df['distance'] = km"
   ]
  },
  {
   "cell_type": "code",
   "execution_count": 20,
   "id": "31955f47",
   "metadata": {},
   "outputs": [],
   "source": [
    "#To calculate delay in payment acceptance\n",
    "df['del_to_pay'] = ((pd.to_datetime(df['acceptance_scan_timestamp']) - pd.to_datetime(df['payment_datetime'])).astype('timedelta64[D]')).astype(int)"
   ]
  },
  {
   "cell_type": "code",
   "execution_count": 21,
   "id": "b7fa62b4",
   "metadata": {},
   "outputs": [],
   "source": [
    "#removing innecessary columns\n",
    "df = df[['b2c_c2c', 'declared_handling_days', 'shipment_method_id', 'shipping_fee',\n",
    "       'carrier_min_estimate', 'carrier_max_estimate',\n",
    "       'category_id', 'item_price', 'quantity',\n",
    "       'weight', 'weight_units', 'package_size',\n",
    "       'distance', 'del_to_pay']]"
   ]
  },
  {
   "cell_type": "code",
   "execution_count": 22,
   "id": "6143213e",
   "metadata": {},
   "outputs": [
    {
     "data": {
      "text/plain": [
       "B2C    1722898\n",
       "C2C     777102\n",
       "Name: b2c_c2c, dtype: int64"
      ]
     },
     "execution_count": 22,
     "metadata": {},
     "output_type": "execute_result"
    }
   ],
   "source": [
    "df['b2c_c2c'].value_counts()"
   ]
  },
  {
   "cell_type": "code",
   "execution_count": 23,
   "id": "528919b1",
   "metadata": {},
   "outputs": [],
   "source": [
    "# converting 'C2C','B2C' into 1,2\n",
    "df['b2c_c2c'].replace(to_replace=['C2C','B2C'],value=[1,2],inplace=True)"
   ]
  },
  {
   "cell_type": "code",
   "execution_count": 24,
   "id": "2ef74572",
   "metadata": {},
   "outputs": [
    {
     "data": {
      "text/plain": [
       "PACKAGE_THICK_ENVELOPE    2153288\n",
       "NONE                       146792\n",
       "LETTER                     137274\n",
       "LARGE_ENVELOPE              33863\n",
       "LARGE_PACKAGE               28783\n",
       "Name: package_size, dtype: int64"
      ]
     },
     "execution_count": 24,
     "metadata": {},
     "output_type": "execute_result"
    }
   ],
   "source": [
    "#converting package size to numbers\n",
    "df['package_size'].value_counts()"
   ]
  },
  {
   "cell_type": "code",
   "execution_count": 25,
   "id": "0ab0cd3e",
   "metadata": {},
   "outputs": [],
   "source": [
    "# Making the package size from str to int\n",
    "df['package_size'].replace(to_replace=['PACKAGE_THICK_ENVELOPE','NONE','LETTER','LARGE_ENVELOPE','LARGE_PACKAGE'],value=[2,3,1,4,5],inplace=True)"
   ]
  },
  {
   "cell_type": "markdown",
   "id": "1aef7bd2",
   "metadata": {},
   "source": [
    "Sklearn models"
   ]
  },
  {
   "cell_type": "code",
   "execution_count": 26,
   "id": "1d949c8d",
   "metadata": {},
   "outputs": [],
   "source": [
    "#loading the model\n",
    "from joblib import load\n",
    "#change the model name as per requirement\n",
    "reg = load('ridge_all.joblib') \n",
    "days = reg.predict(df)"
   ]
  },
  {
   "cell_type": "code",
   "execution_count": 27,
   "id": "7bf33ec7",
   "metadata": {},
   "outputs": [],
   "source": [
    "#ensuring that the delivery days are positive\n",
    "for i in range(len(days)):\n",
    "    if days[i] <0:\n",
    "        days[i] = 0\n",
    "    else:\n",
    "        pass\n",
    "        days[i] = int(days[i])"
   ]
  },
  {
   "cell_type": "code",
   "execution_count": 29,
   "id": "46080db1",
   "metadata": {},
   "outputs": [],
   "source": [
    "#making a new dataframe for output\n",
    "df_out = d1[['record_number', 'payment_datetime']]"
   ]
  },
  {
   "cell_type": "code",
   "execution_count": 30,
   "id": "614bfaa2",
   "metadata": {},
   "outputs": [
    {
     "name": "stderr",
     "output_type": "stream",
     "text": [
      "C:\\Users\\ADMINI~1\\AppData\\Local\\Temp/ipykernel_8704/3839791159.py:1: SettingWithCopyWarning: \n",
      "A value is trying to be set on a copy of a slice from a DataFrame.\n",
      "Try using .loc[row_indexer,col_indexer] = value instead\n",
      "\n",
      "See the caveats in the documentation: https://pandas.pydata.org/pandas-docs/stable/user_guide/indexing.html#returning-a-view-versus-a-copy\n",
      "  df_out['days']=days\n"
     ]
    }
   ],
   "source": [
    "df_out['days']=days"
   ]
  },
  {
   "cell_type": "code",
   "execution_count": 31,
   "id": "15e9cf8d",
   "metadata": {},
   "outputs": [
    {
     "name": "stderr",
     "output_type": "stream",
     "text": [
      "C:\\Users\\ADMINI~1\\AppData\\Local\\Temp/ipykernel_8704/714114002.py:1: SettingWithCopyWarning: \n",
      "A value is trying to be set on a copy of a slice from a DataFrame.\n",
      "Try using .loc[row_indexer,col_indexer] = value instead\n",
      "\n",
      "See the caveats in the documentation: https://pandas.pydata.org/pandas-docs/stable/user_guide/indexing.html#returning-a-view-versus-a-copy\n",
      "  df_out['delivery_date'] = pd.to_datetime(df_out[\"payment_datetime\"]) + pd.to_timedelta(df_out['days'], unit='D')\n"
     ]
    }
   ],
   "source": [
    "#adding delivery days to payment date to find delivery date\n",
    "df_out['delivery_date'] = pd.to_datetime(df_out[\"payment_datetime\"]) + pd.to_timedelta(df_out['days'], unit='D')"
   ]
  },
  {
   "cell_type": "code",
   "execution_count": 32,
   "id": "2a4f2bd6",
   "metadata": {},
   "outputs": [
    {
     "data": {
      "text/html": [
       "<div>\n",
       "<style scoped>\n",
       "    .dataframe tbody tr th:only-of-type {\n",
       "        vertical-align: middle;\n",
       "    }\n",
       "\n",
       "    .dataframe tbody tr th {\n",
       "        vertical-align: top;\n",
       "    }\n",
       "\n",
       "    .dataframe thead th {\n",
       "        text-align: right;\n",
       "    }\n",
       "</style>\n",
       "<table border=\"1\" class=\"dataframe\">\n",
       "  <thead>\n",
       "    <tr style=\"text-align: right;\">\n",
       "      <th></th>\n",
       "      <th>record_number</th>\n",
       "      <th>payment_datetime</th>\n",
       "      <th>days</th>\n",
       "      <th>delivery_date</th>\n",
       "    </tr>\n",
       "  </thead>\n",
       "  <tbody>\n",
       "    <tr>\n",
       "      <th>0</th>\n",
       "      <td>15000001</td>\n",
       "      <td>2019-11-13</td>\n",
       "      <td>5.0</td>\n",
       "      <td>2019-11-18</td>\n",
       "    </tr>\n",
       "    <tr>\n",
       "      <th>1</th>\n",
       "      <td>15000002</td>\n",
       "      <td>2019-11-26</td>\n",
       "      <td>5.0</td>\n",
       "      <td>2019-12-01</td>\n",
       "    </tr>\n",
       "    <tr>\n",
       "      <th>2</th>\n",
       "      <td>15000003</td>\n",
       "      <td>2019-12-02</td>\n",
       "      <td>5.0</td>\n",
       "      <td>2019-12-07</td>\n",
       "    </tr>\n",
       "    <tr>\n",
       "      <th>3</th>\n",
       "      <td>15000004</td>\n",
       "      <td>2019-12-12</td>\n",
       "      <td>5.0</td>\n",
       "      <td>2019-12-17</td>\n",
       "    </tr>\n",
       "    <tr>\n",
       "      <th>4</th>\n",
       "      <td>15000005</td>\n",
       "      <td>2019-12-18</td>\n",
       "      <td>5.0</td>\n",
       "      <td>2019-12-23</td>\n",
       "    </tr>\n",
       "  </tbody>\n",
       "</table>\n",
       "</div>"
      ],
      "text/plain": [
       "   record_number payment_datetime  days delivery_date\n",
       "0       15000001       2019-11-13   5.0    2019-11-18\n",
       "1       15000002       2019-11-26   5.0    2019-12-01\n",
       "2       15000003       2019-12-02   5.0    2019-12-07\n",
       "3       15000004       2019-12-12   5.0    2019-12-17\n",
       "4       15000005       2019-12-18   5.0    2019-12-23"
      ]
     },
     "execution_count": 32,
     "metadata": {},
     "output_type": "execute_result"
    }
   ],
   "source": [
    "df_out.head(5)"
   ]
  },
  {
   "cell_type": "code",
   "execution_count": 33,
   "id": "3b1dacd9",
   "metadata": {},
   "outputs": [],
   "source": [
    "#keeping only required columns in the output dataframe\n",
    "df_out_1 = df_out[['record_number', 'delivery_date']]"
   ]
  },
  {
   "cell_type": "code",
   "execution_count": 34,
   "id": "0f96b22c",
   "metadata": {},
   "outputs": [],
   "source": [
    "#saving the file as tsv\n",
    "df_out_1.to_csv('adaboost.tsv', sep = '\\t', header=False, index = False)"
   ]
  },
  {
   "cell_type": "markdown",
   "id": "e3251cd9",
   "metadata": {},
   "source": [
    "Tensorflow models"
   ]
  },
  {
   "cell_type": "code",
   "execution_count": 31,
   "id": "bdab12c6",
   "metadata": {},
   "outputs": [],
   "source": [
    "from tensorflow.keras.models import load_model\n",
    "adamax = load_model(\"adamax.h5\")"
   ]
  },
  {
   "cell_type": "code",
   "execution_count": 33,
   "id": "6d0f2c0f",
   "metadata": {},
   "outputs": [],
   "source": [
    "days =  adamax.predict(df)"
   ]
  },
  {
   "cell_type": "code",
   "execution_count": 34,
   "id": "e9c1cfe0",
   "metadata": {},
   "outputs": [],
   "source": [
    "#ensureing that all the days are positive\n",
    "for i in range(len(days)):\n",
    "    if days[i] <0:\n",
    "        days[i] = 0\n",
    "    else:\n",
    "        days[i] = int(days[i])"
   ]
  },
  {
   "cell_type": "code",
   "execution_count": 36,
   "id": "043be532",
   "metadata": {},
   "outputs": [
    {
     "name": "stderr",
     "output_type": "stream",
     "text": [
      "C:\\Users\\ADMINI~1\\AppData\\Local\\Temp/ipykernel_14664/3839791159.py:1: SettingWithCopyWarning: \n",
      "A value is trying to be set on a copy of a slice from a DataFrame.\n",
      "Try using .loc[row_indexer,col_indexer] = value instead\n",
      "\n",
      "See the caveats in the documentation: https://pandas.pydata.org/pandas-docs/stable/user_guide/indexing.html#returning-a-view-versus-a-copy\n",
      "  df_out['days']=days\n"
     ]
    }
   ],
   "source": [
    "df_out['days']=days"
   ]
  },
  {
   "cell_type": "code",
   "execution_count": 37,
   "id": "f840300e",
   "metadata": {},
   "outputs": [
    {
     "name": "stderr",
     "output_type": "stream",
     "text": [
      "C:\\Users\\ADMINI~1\\AppData\\Local\\Temp/ipykernel_14664/714114002.py:1: SettingWithCopyWarning: \n",
      "A value is trying to be set on a copy of a slice from a DataFrame.\n",
      "Try using .loc[row_indexer,col_indexer] = value instead\n",
      "\n",
      "See the caveats in the documentation: https://pandas.pydata.org/pandas-docs/stable/user_guide/indexing.html#returning-a-view-versus-a-copy\n",
      "  df_out['delivery_date'] = pd.to_datetime(df_out[\"payment_datetime\"]) + pd.to_timedelta(df_out['days'], unit='D')\n"
     ]
    }
   ],
   "source": [
    "#adding delivery days to payment date to find delivery date\n",
    "df_out['delivery_date'] = pd.to_datetime(df_out[\"payment_datetime\"]) + pd.to_timedelta(df_out['days'], unit='D')"
   ]
  },
  {
   "cell_type": "code",
   "execution_count": 40,
   "id": "8d0a8c33",
   "metadata": {},
   "outputs": [],
   "source": [
    "#removing unnecessary columns\n",
    "df_out_2 = df_out[['record_number', 'delivery_date']]"
   ]
  },
  {
   "cell_type": "code",
   "execution_count": 41,
   "id": "f4c64511",
   "metadata": {},
   "outputs": [],
   "source": [
    "#saving the file as tsv\n",
    "df_out_2.to_csv('adamax.tsv', sep = '\\t', header=False, index = False)"
   ]
  }
 ],
 "metadata": {
  "kernelspec": {
   "display_name": "Python 3 (ipykernel)",
   "language": "python",
   "name": "python3"
  },
  "language_info": {
   "codemirror_mode": {
    "name": "ipython",
    "version": 3
   },
   "file_extension": ".py",
   "mimetype": "text/x-python",
   "name": "python",
   "nbconvert_exporter": "python",
   "pygments_lexer": "ipython3",
   "version": "3.9.7"
  },
  "toc": {
   "base_numbering": 1,
   "nav_menu": {},
   "number_sections": true,
   "sideBar": true,
   "skip_h1_title": false,
   "title_cell": "Table of Contents",
   "title_sidebar": "Contents",
   "toc_cell": false,
   "toc_position": {},
   "toc_section_display": true,
   "toc_window_display": false
  }
 },
 "nbformat": 4,
 "nbformat_minor": 5
}
