{
 "cells": [
  {
   "cell_type": "markdown",
   "id": "9d68828d",
   "metadata": {},
   "source": [
    "# IMPORTING RELEVANT LIBRARIES"
   ]
  },
  {
   "cell_type": "code",
   "execution_count": 2,
   "id": "af758fa8",
   "metadata": {},
   "outputs": [],
   "source": [
    "#Importing relevant libraries\n",
    "import pandas as pd\n",
    "import numpy as np\n",
    "import matplotlib.pyplot as plt\n",
    "import seaborn as sns\n",
    "\n",
    "from sklearn.model_selection import train_test_split\n",
    "\n",
    "from sklearn.linear_model import LinearRegression\n",
    "\n",
    "from sklearn.metrics import mean_squared_error, r2_score\n",
    "\n",
    "\n",
    "import tensorflow\n",
    "import warnings\n",
    "warnings.filterwarnings('ignore')"
   ]
  },
  {
   "cell_type": "markdown",
   "id": "a29afd0e",
   "metadata": {},
   "source": [
    "I will be reading uszips.csv to use for furthur analysis of zipcodes "
   ]
  },
  {
   "cell_type": "code",
   "execution_count": 4,
   "id": "283a7ebb",
   "metadata": {},
   "outputs": [],
   "source": [
    "#Reading the tsv\n",
    "d1 = pd.read_csv('chunk1.csv', encoding= 'unicode_escape', sep=',')"
   ]
  },
  {
   "cell_type": "code",
   "execution_count": 5,
   "id": "c528c5f7",
   "metadata": {},
   "outputs": [],
   "source": [
    "#reading the zip files\n",
    "d2 = pd.read_csv('uszips.csv')"
   ]
  },
  {
   "cell_type": "code",
   "execution_count": 6,
   "id": "fabbd7b4",
   "metadata": {},
   "outputs": [
    {
     "data": {
      "text/plain": [
       "Index(['zip', 'lat', 'lng', 'city', 'state_id', 'state_name', 'zcta',\n",
       "       'parent_zcta', 'population', 'density', 'county_fips', 'county_name',\n",
       "       'all_county_weights', 'imprecise', 'military', 'timezone'],\n",
       "      dtype='object')"
      ]
     },
     "execution_count": 6,
     "metadata": {},
     "output_type": "execute_result"
    }
   ],
   "source": [
    "d2.columns"
   ]
  },
  {
   "cell_type": "markdown",
   "id": "6ca6f53b",
   "metadata": {},
   "source": [
    "For the EDA on data I will be focus on 'zip', 'lat', 'lng', 'city', 'state_id', 'state_name' columns of uszips.csv"
   ]
  },
  {
   "cell_type": "code",
   "execution_count": 7,
   "id": "fdf85755",
   "metadata": {
    "code_folding": []
   },
   "outputs": [],
   "source": [
    "d2  = d2[['zip', 'lat', 'lng', 'city', 'state_id', 'state_name']]"
   ]
  },
  {
   "cell_type": "code",
   "execution_count": 8,
   "id": "f1712c71",
   "metadata": {
    "scrolled": true
   },
   "outputs": [
    {
     "name": "stdout",
     "output_type": "stream",
     "text": [
      "<class 'pandas.core.frame.DataFrame'>\n",
      "RangeIndex: 66199 entries, 0 to 66198\n",
      "Data columns (total 6 columns):\n",
      " #   Column      Non-Null Count  Dtype \n",
      "---  ------      --------------  ----- \n",
      " 0   zip         66199 non-null  object\n",
      " 1   lat         66199 non-null  object\n",
      " 2   lng         66199 non-null  object\n",
      " 3   city        66199 non-null  object\n",
      " 4   state_id    66199 non-null  object\n",
      " 5   state_name  66199 non-null  object\n",
      "dtypes: object(6)\n",
      "memory usage: 3.0+ MB\n"
     ]
    }
   ],
   "source": [
    "d2.info()"
   ]
  },
  {
   "cell_type": "code",
   "execution_count": 9,
   "id": "166c3eb9",
   "metadata": {},
   "outputs": [
    {
     "name": "stdout",
     "output_type": "stream",
     "text": [
      "<class 'pandas.core.frame.DataFrame'>\n",
      "RangeIndex: 50000 entries, 0 to 49999\n",
      "Data columns (total 20 columns):\n",
      " #   Column                     Non-Null Count  Dtype  \n",
      "---  ------                     --------------  -----  \n",
      " 0   Unnamed: 0                 50000 non-null  int64  \n",
      " 1   b2c_c2c                    50000 non-null  object \n",
      " 2   seller_id                  50000 non-null  int64  \n",
      " 3   declared_handling_days     47494 non-null  float64\n",
      " 4   acceptance_scan_timestamp  50000 non-null  object \n",
      " 5   shipment_method_id         50000 non-null  int64  \n",
      " 6   shipping_fee               50000 non-null  float64\n",
      " 7   carrier_min_estimate       50000 non-null  int64  \n",
      " 8   carrier_max_estimate       50000 non-null  int64  \n",
      " 9   item_zip                   50000 non-null  object \n",
      " 10  buyer_zip                  50000 non-null  object \n",
      " 11  category_id                50000 non-null  int64  \n",
      " 12  item_price                 50000 non-null  float64\n",
      " 13  quantity                   50000 non-null  int64  \n",
      " 14  payment_datetime           50000 non-null  object \n",
      " 15  delivery_date              50000 non-null  object \n",
      " 16  weight                     50000 non-null  int64  \n",
      " 17  weight_units               50000 non-null  int64  \n",
      " 18  package_size               50000 non-null  object \n",
      " 19  record_number              50000 non-null  int64  \n",
      "dtypes: float64(3), int64(10), object(7)\n",
      "memory usage: 7.6+ MB\n"
     ]
    }
   ],
   "source": [
    "d1.info()"
   ]
  },
  {
   "cell_type": "code",
   "execution_count": 11,
   "id": "08101c29",
   "metadata": {},
   "outputs": [],
   "source": [
    "d1 = d1.iloc[: ,1:]"
   ]
  },
  {
   "cell_type": "code",
   "execution_count": 12,
   "id": "bf11f5cc",
   "metadata": {
    "scrolled": true
   },
   "outputs": [
    {
     "data": {
      "text/html": [
       "<div>\n",
       "<style scoped>\n",
       "    .dataframe tbody tr th:only-of-type {\n",
       "        vertical-align: middle;\n",
       "    }\n",
       "\n",
       "    .dataframe tbody tr th {\n",
       "        vertical-align: top;\n",
       "    }\n",
       "\n",
       "    .dataframe thead th {\n",
       "        text-align: right;\n",
       "    }\n",
       "</style>\n",
       "<table border=\"1\" class=\"dataframe\">\n",
       "  <thead>\n",
       "    <tr style=\"text-align: right;\">\n",
       "      <th></th>\n",
       "      <th>b2c_c2c</th>\n",
       "      <th>seller_id</th>\n",
       "      <th>declared_handling_days</th>\n",
       "      <th>acceptance_scan_timestamp</th>\n",
       "      <th>shipment_method_id</th>\n",
       "      <th>shipping_fee</th>\n",
       "      <th>carrier_min_estimate</th>\n",
       "      <th>carrier_max_estimate</th>\n",
       "      <th>item_zip</th>\n",
       "      <th>buyer_zip</th>\n",
       "      <th>category_id</th>\n",
       "      <th>item_price</th>\n",
       "      <th>quantity</th>\n",
       "      <th>payment_datetime</th>\n",
       "      <th>delivery_date</th>\n",
       "      <th>weight</th>\n",
       "      <th>weight_units</th>\n",
       "      <th>package_size</th>\n",
       "      <th>record_number</th>\n",
       "    </tr>\n",
       "  </thead>\n",
       "  <tbody>\n",
       "    <tr>\n",
       "      <th>0</th>\n",
       "      <td>B2C</td>\n",
       "      <td>25454</td>\n",
       "      <td>3.0</td>\n",
       "      <td>2019-03-26 15:11:00.000-07:00</td>\n",
       "      <td>0</td>\n",
       "      <td>0.0</td>\n",
       "      <td>3</td>\n",
       "      <td>5</td>\n",
       "      <td>97219</td>\n",
       "      <td>49040</td>\n",
       "      <td>13</td>\n",
       "      <td>27.95</td>\n",
       "      <td>1</td>\n",
       "      <td>2019-03-24 03:56:49.000-07:00</td>\n",
       "      <td>2019-03-29</td>\n",
       "      <td>5</td>\n",
       "      <td>1</td>\n",
       "      <td>LETTER</td>\n",
       "      <td>1</td>\n",
       "    </tr>\n",
       "    <tr>\n",
       "      <th>1</th>\n",
       "      <td>C2C</td>\n",
       "      <td>6727381</td>\n",
       "      <td>2.0</td>\n",
       "      <td>2018-06-02 12:53:00.000-07:00</td>\n",
       "      <td>0</td>\n",
       "      <td>3.0</td>\n",
       "      <td>3</td>\n",
       "      <td>5</td>\n",
       "      <td>11415-3528</td>\n",
       "      <td>62521</td>\n",
       "      <td>0</td>\n",
       "      <td>20.50</td>\n",
       "      <td>1</td>\n",
       "      <td>2018-06-01 13:43:54.000-07:00</td>\n",
       "      <td>2018-06-05</td>\n",
       "      <td>0</td>\n",
       "      <td>1</td>\n",
       "      <td>PACKAGE_THICK_ENVELOPE</td>\n",
       "      <td>2</td>\n",
       "    </tr>\n",
       "    <tr>\n",
       "      <th>2</th>\n",
       "      <td>B2C</td>\n",
       "      <td>18507</td>\n",
       "      <td>1.0</td>\n",
       "      <td>2019-01-07 16:22:00.000-05:00</td>\n",
       "      <td>0</td>\n",
       "      <td>4.5</td>\n",
       "      <td>3</td>\n",
       "      <td>5</td>\n",
       "      <td>27292</td>\n",
       "      <td>53010</td>\n",
       "      <td>1</td>\n",
       "      <td>19.90</td>\n",
       "      <td>1</td>\n",
       "      <td>2019-01-06 00:02:00.000-05:00</td>\n",
       "      <td>2019-01-10</td>\n",
       "      <td>9</td>\n",
       "      <td>1</td>\n",
       "      <td>PACKAGE_THICK_ENVELOPE</td>\n",
       "      <td>3</td>\n",
       "    </tr>\n",
       "    <tr>\n",
       "      <th>3</th>\n",
       "      <td>B2C</td>\n",
       "      <td>4677</td>\n",
       "      <td>1.0</td>\n",
       "      <td>2018-12-17 16:56:00.000-08:00</td>\n",
       "      <td>0</td>\n",
       "      <td>0.0</td>\n",
       "      <td>3</td>\n",
       "      <td>5</td>\n",
       "      <td>90703</td>\n",
       "      <td>80022</td>\n",
       "      <td>1</td>\n",
       "      <td>35.50</td>\n",
       "      <td>1</td>\n",
       "      <td>2018-12-16 10:28:28.000-08:00</td>\n",
       "      <td>2018-12-21</td>\n",
       "      <td>8</td>\n",
       "      <td>1</td>\n",
       "      <td>PACKAGE_THICK_ENVELOPE</td>\n",
       "      <td>4</td>\n",
       "    </tr>\n",
       "    <tr>\n",
       "      <th>4</th>\n",
       "      <td>B2C</td>\n",
       "      <td>4677</td>\n",
       "      <td>1.0</td>\n",
       "      <td>2018-07-27 16:48:00.000-07:00</td>\n",
       "      <td>0</td>\n",
       "      <td>0.0</td>\n",
       "      <td>3</td>\n",
       "      <td>5</td>\n",
       "      <td>90703</td>\n",
       "      <td>55070</td>\n",
       "      <td>1</td>\n",
       "      <td>25.00</td>\n",
       "      <td>1</td>\n",
       "      <td>2018-07-26 18:20:02.000-07:00</td>\n",
       "      <td>2018-07-30</td>\n",
       "      <td>3</td>\n",
       "      <td>1</td>\n",
       "      <td>PACKAGE_THICK_ENVELOPE</td>\n",
       "      <td>5</td>\n",
       "    </tr>\n",
       "  </tbody>\n",
       "</table>\n",
       "</div>"
      ],
      "text/plain": [
       "  b2c_c2c  seller_id  declared_handling_days      acceptance_scan_timestamp  \\\n",
       "0     B2C      25454                     3.0  2019-03-26 15:11:00.000-07:00   \n",
       "1     C2C    6727381                     2.0  2018-06-02 12:53:00.000-07:00   \n",
       "2     B2C      18507                     1.0  2019-01-07 16:22:00.000-05:00   \n",
       "3     B2C       4677                     1.0  2018-12-17 16:56:00.000-08:00   \n",
       "4     B2C       4677                     1.0  2018-07-27 16:48:00.000-07:00   \n",
       "\n",
       "   shipment_method_id  shipping_fee  carrier_min_estimate  \\\n",
       "0                   0           0.0                     3   \n",
       "1                   0           3.0                     3   \n",
       "2                   0           4.5                     3   \n",
       "3                   0           0.0                     3   \n",
       "4                   0           0.0                     3   \n",
       "\n",
       "   carrier_max_estimate    item_zip buyer_zip  category_id  item_price  \\\n",
       "0                     5       97219     49040           13       27.95   \n",
       "1                     5  11415-3528     62521            0       20.50   \n",
       "2                     5       27292     53010            1       19.90   \n",
       "3                     5       90703     80022            1       35.50   \n",
       "4                     5       90703     55070            1       25.00   \n",
       "\n",
       "   quantity               payment_datetime delivery_date  weight  \\\n",
       "0         1  2019-03-24 03:56:49.000-07:00    2019-03-29       5   \n",
       "1         1  2018-06-01 13:43:54.000-07:00    2018-06-05       0   \n",
       "2         1  2019-01-06 00:02:00.000-05:00    2019-01-10       9   \n",
       "3         1  2018-12-16 10:28:28.000-08:00    2018-12-21       8   \n",
       "4         1  2018-07-26 18:20:02.000-07:00    2018-07-30       3   \n",
       "\n",
       "   weight_units            package_size  record_number  \n",
       "0             1                  LETTER              1  \n",
       "1             1  PACKAGE_THICK_ENVELOPE              2  \n",
       "2             1  PACKAGE_THICK_ENVELOPE              3  \n",
       "3             1  PACKAGE_THICK_ENVELOPE              4  \n",
       "4             1  PACKAGE_THICK_ENVELOPE              5  "
      ]
     },
     "execution_count": 12,
     "metadata": {},
     "output_type": "execute_result"
    }
   ],
   "source": [
    "d1.head()"
   ]
  },
  {
   "cell_type": "markdown",
   "id": "231142e2",
   "metadata": {},
   "source": [
    "On preliminary analysis in Excel , I noted that zip had several formats that, including 5 digit, 5+4 digit, and 9 digit (same meaning as 5+4 digit but without the dash in between).\n",
    "I will be cleaning item_zip and buyer_zip columns and keeping only the first 5 digits of zipcodes."
   ]
  },
  {
   "cell_type": "code",
   "execution_count": 14,
   "id": "b23fb0d4",
   "metadata": {},
   "outputs": [],
   "source": [
    "#converting item_zip from object to a number\n",
    "items = []\n",
    "for item in d1['item_zip']:\n",
    "    #checking if the item is a string\n",
    "    if isinstance(item, str):\n",
    "        #remove comma if any\n",
    "        item = item.replace(\",\", \"\")\n",
    "        #parsing length to 5\n",
    "        item = item[:5]\n",
    "        #spliting on delimeter if any\n",
    "        item = item.split(\"-\")[0]\n",
    "    #converting into int\n",
    "    try:\n",
    "        item = int(item)\n",
    "    except:\n",
    "        item = 0\n",
    "    items.append(item)\n",
    "\n",
    "\n",
    "d1['item_zip'] = items"
   ]
  },
  {
   "cell_type": "code",
   "execution_count": 15,
   "id": "12a5c600",
   "metadata": {},
   "outputs": [],
   "source": [
    "#converting item_zip from object to a number\n",
    "items = []\n",
    "for item in d1['buyer_zip']:\n",
    "    #checking if the item is a string\n",
    "    if isinstance(item, str):\n",
    "        #remove comma if any\n",
    "        item = item.replace(\",\", \"\")\n",
    "        #parsing length to 5\n",
    "        item = item[:5]\n",
    "        #spliting on delimeter if any\n",
    "        item = item.split(\"-\")[0]\n",
    "    #converting into int\n",
    "    try:\n",
    "        item = int(item)\n",
    "    except:\n",
    "        item = 0\n",
    "    items.append(item)\n",
    "\n",
    "\n",
    "d1['buyer_zip'] = items"
   ]
  },
  {
   "cell_type": "markdown",
   "id": "c43e9277",
   "metadata": {},
   "source": [
    "Since the dataset has date that might have unnecessary space, I will parsing to all columns with datetime format to remove those spaces"
   ]
  },
  {
   "cell_type": "code",
   "execution_count": 16,
   "id": "34cb81de",
   "metadata": {},
   "outputs": [],
   "source": [
    "#parsing the payment_datetime\n",
    "items = []\n",
    "for item in d1['payment_datetime']:\n",
    "    #removing unnecessary string after space\n",
    "    item = item.split(\" \")[0]\n",
    "    items.append(item)\n",
    "\n",
    "d1['payment_datetime'] = items"
   ]
  },
  {
   "cell_type": "code",
   "execution_count": 17,
   "id": "5884f1c6",
   "metadata": {},
   "outputs": [],
   "source": [
    "#parsing the acceptance_scan_timestamp\n",
    "items = []\n",
    "for item in d1['acceptance_scan_timestamp']:\n",
    "    #removing unnecessary string after space\n",
    "    item = item.split(\" \")[0]\n",
    "    items.append(item)\n",
    "\n",
    "d1['acceptance_scan_timestamp'] = items"
   ]
  },
  {
   "cell_type": "code",
   "execution_count": 18,
   "id": "cc027090",
   "metadata": {},
   "outputs": [],
   "source": [
    "#parsing the payment_datetime\n",
    "items = []\n",
    "for item in d1['delivery_date']:\n",
    "    #removing unnecessary string after space\n",
    "    item = item.split(\" \")[0]\n",
    "    items.append(item)\n",
    "\n",
    "d1['delivery_date'] = items"
   ]
  },
  {
   "cell_type": "markdown",
   "id": "5ffd2de0",
   "metadata": {},
   "source": [
    "Merging dataset. <br>It will be a two step procedure\n",
    "\n",
    "1. Merge w.r.t item_zip to get the longitudes and latitudes of the store\n",
    "2. Merge w.r.t. buyer_zip to get the longitudes and latitudes of the buyer"
   ]
  },
  {
   "cell_type": "markdown",
   "id": "8a24c38d",
   "metadata": {},
   "source": [
    "I will be performing inner join so that all the records (zips) that are not consistent in both the dataframes are dropprd"
   ]
  },
  {
   "cell_type": "code",
   "execution_count": 19,
   "id": "33a23a35",
   "metadata": {},
   "outputs": [],
   "source": [
    "merge_1 = pd.merge(d2, d1, left_on = \"zip\", right_on = \"item_zip\", how = 'inner')"
   ]
  },
  {
   "cell_type": "code",
   "execution_count": 20,
   "id": "41c7d5fc",
   "metadata": {},
   "outputs": [],
   "source": [
    "#renaming the columns \n",
    "merge_1.rename(columns={'lng': 'item_lng', 'lat': 'item_lat'}, inplace=True)"
   ]
  },
  {
   "cell_type": "code",
   "execution_count": 21,
   "id": "37ca7799",
   "metadata": {},
   "outputs": [],
   "source": [
    "merge_2 = pd.merge(d2, merge_1, left_on = \"zip\", right_on = \"buyer_zip\", how = 'inner')"
   ]
  },
  {
   "cell_type": "code",
   "execution_count": 22,
   "id": "317a132f",
   "metadata": {},
   "outputs": [],
   "source": [
    "merge_2.rename(columns={'lng': 'buyer_lng', 'lat': 'buyer_lat'}, inplace=True)"
   ]
  },
  {
   "cell_type": "code",
   "execution_count": 23,
   "id": "c9874e5f",
   "metadata": {},
   "outputs": [],
   "source": [
    "df = merge_2"
   ]
  },
  {
   "cell_type": "code",
   "execution_count": 24,
   "id": "337982c0",
   "metadata": {},
   "outputs": [
    {
     "data": {
      "text/html": [
       "<div>\n",
       "<style scoped>\n",
       "    .dataframe tbody tr th:only-of-type {\n",
       "        vertical-align: middle;\n",
       "    }\n",
       "\n",
       "    .dataframe tbody tr th {\n",
       "        vertical-align: top;\n",
       "    }\n",
       "\n",
       "    .dataframe thead th {\n",
       "        text-align: right;\n",
       "    }\n",
       "</style>\n",
       "<table border=\"1\" class=\"dataframe\">\n",
       "  <thead>\n",
       "    <tr style=\"text-align: right;\">\n",
       "      <th></th>\n",
       "      <th>zip_x</th>\n",
       "      <th>buyer_lat</th>\n",
       "      <th>buyer_lng</th>\n",
       "      <th>city_x</th>\n",
       "      <th>state_id_x</th>\n",
       "      <th>state_name_x</th>\n",
       "      <th>zip_y</th>\n",
       "      <th>item_lat</th>\n",
       "      <th>item_lng</th>\n",
       "      <th>city_y</th>\n",
       "      <th>...</th>\n",
       "      <th>buyer_zip</th>\n",
       "      <th>category_id</th>\n",
       "      <th>item_price</th>\n",
       "      <th>quantity</th>\n",
       "      <th>payment_datetime</th>\n",
       "      <th>delivery_date</th>\n",
       "      <th>weight</th>\n",
       "      <th>weight_units</th>\n",
       "      <th>package_size</th>\n",
       "      <th>record_number</th>\n",
       "    </tr>\n",
       "  </thead>\n",
       "  <tbody>\n",
       "    <tr>\n",
       "      <th>0</th>\n",
       "      <td>1001</td>\n",
       "      <td>42.06258</td>\n",
       "      <td>-72.6259</td>\n",
       "      <td>Agawam</td>\n",
       "      <td>MA</td>\n",
       "      <td>Massachusetts</td>\n",
       "      <td>6255</td>\n",
       "      <td>41.98828</td>\n",
       "      <td>-71.90256</td>\n",
       "      <td>North Grosvenordale</td>\n",
       "      <td>...</td>\n",
       "      <td>1001</td>\n",
       "      <td>25</td>\n",
       "      <td>94.00</td>\n",
       "      <td>1</td>\n",
       "      <td>2018-03-06</td>\n",
       "      <td>2018-03-10</td>\n",
       "      <td>0</td>\n",
       "      <td>1</td>\n",
       "      <td>PACKAGE_THICK_ENVELOPE</td>\n",
       "      <td>4092</td>\n",
       "    </tr>\n",
       "    <tr>\n",
       "      <th>1</th>\n",
       "      <td>1001</td>\n",
       "      <td>42.06258</td>\n",
       "      <td>-72.6259</td>\n",
       "      <td>Agawam</td>\n",
       "      <td>MA</td>\n",
       "      <td>Massachusetts</td>\n",
       "      <td>19114</td>\n",
       "      <td>40.06736</td>\n",
       "      <td>-75.00358</td>\n",
       "      <td>Philadelphia</td>\n",
       "      <td>...</td>\n",
       "      <td>1001</td>\n",
       "      <td>0</td>\n",
       "      <td>8.00</td>\n",
       "      <td>1</td>\n",
       "      <td>2018-11-17</td>\n",
       "      <td>2018-11-23</td>\n",
       "      <td>0</td>\n",
       "      <td>1</td>\n",
       "      <td>PACKAGE_THICK_ENVELOPE</td>\n",
       "      <td>301</td>\n",
       "    </tr>\n",
       "    <tr>\n",
       "      <th>2</th>\n",
       "      <td>1001</td>\n",
       "      <td>42.06258</td>\n",
       "      <td>-72.6259</td>\n",
       "      <td>Agawam</td>\n",
       "      <td>MA</td>\n",
       "      <td>Massachusetts</td>\n",
       "      <td>33126</td>\n",
       "      <td>25.77984</td>\n",
       "      <td>-80.29887</td>\n",
       "      <td>Miami</td>\n",
       "      <td>...</td>\n",
       "      <td>1001</td>\n",
       "      <td>2</td>\n",
       "      <td>59.99</td>\n",
       "      <td>1</td>\n",
       "      <td>2019-09-20</td>\n",
       "      <td>2019-09-25</td>\n",
       "      <td>0</td>\n",
       "      <td>1</td>\n",
       "      <td>NONE</td>\n",
       "      <td>11395</td>\n",
       "    </tr>\n",
       "    <tr>\n",
       "      <th>3</th>\n",
       "      <td>1001</td>\n",
       "      <td>42.06258</td>\n",
       "      <td>-72.6259</td>\n",
       "      <td>Agawam</td>\n",
       "      <td>MA</td>\n",
       "      <td>Massachusetts</td>\n",
       "      <td>64068</td>\n",
       "      <td>39.25949</td>\n",
       "      <td>-94.38879</td>\n",
       "      <td>Liberty</td>\n",
       "      <td>...</td>\n",
       "      <td>1001</td>\n",
       "      <td>0</td>\n",
       "      <td>14.98</td>\n",
       "      <td>1</td>\n",
       "      <td>2018-02-21</td>\n",
       "      <td>2018-02-24</td>\n",
       "      <td>0</td>\n",
       "      <td>1</td>\n",
       "      <td>LETTER</td>\n",
       "      <td>37987</td>\n",
       "    </tr>\n",
       "    <tr>\n",
       "      <th>4</th>\n",
       "      <td>1001</td>\n",
       "      <td>42.06258</td>\n",
       "      <td>-72.6259</td>\n",
       "      <td>Agawam</td>\n",
       "      <td>MA</td>\n",
       "      <td>Massachusetts</td>\n",
       "      <td>84062</td>\n",
       "      <td>40.43484</td>\n",
       "      <td>-111.67779</td>\n",
       "      <td>Pleasant Grove</td>\n",
       "      <td>...</td>\n",
       "      <td>1001</td>\n",
       "      <td>10</td>\n",
       "      <td>5.99</td>\n",
       "      <td>1</td>\n",
       "      <td>2019-10-30</td>\n",
       "      <td>2019-11-02</td>\n",
       "      <td>0</td>\n",
       "      <td>1</td>\n",
       "      <td>PACKAGE_THICK_ENVELOPE</td>\n",
       "      <td>30976</td>\n",
       "    </tr>\n",
       "  </tbody>\n",
       "</table>\n",
       "<p>5 rows × 31 columns</p>\n",
       "</div>"
      ],
      "text/plain": [
       "  zip_x buyer_lat buyer_lng  city_x state_id_x   state_name_x  zip_y  \\\n",
       "0  1001  42.06258  -72.6259  Agawam         MA  Massachusetts   6255   \n",
       "1  1001  42.06258  -72.6259  Agawam         MA  Massachusetts  19114   \n",
       "2  1001  42.06258  -72.6259  Agawam         MA  Massachusetts  33126   \n",
       "3  1001  42.06258  -72.6259  Agawam         MA  Massachusetts  64068   \n",
       "4  1001  42.06258  -72.6259  Agawam         MA  Massachusetts  84062   \n",
       "\n",
       "   item_lat   item_lng               city_y  ... buyer_zip category_id  \\\n",
       "0  41.98828  -71.90256  North Grosvenordale  ...      1001          25   \n",
       "1  40.06736  -75.00358         Philadelphia  ...      1001           0   \n",
       "2  25.77984  -80.29887                Miami  ...      1001           2   \n",
       "3  39.25949  -94.38879              Liberty  ...      1001           0   \n",
       "4  40.43484 -111.67779       Pleasant Grove  ...      1001          10   \n",
       "\n",
       "  item_price  quantity  payment_datetime delivery_date  weight  weight_units  \\\n",
       "0      94.00         1        2018-03-06    2018-03-10       0             1   \n",
       "1       8.00         1        2018-11-17    2018-11-23       0             1   \n",
       "2      59.99         1        2019-09-20    2019-09-25       0             1   \n",
       "3      14.98         1        2018-02-21    2018-02-24       0             1   \n",
       "4       5.99         1        2019-10-30    2019-11-02       0             1   \n",
       "\n",
       "             package_size  record_number  \n",
       "0  PACKAGE_THICK_ENVELOPE           4092  \n",
       "1  PACKAGE_THICK_ENVELOPE            301  \n",
       "2                    NONE          11395  \n",
       "3                  LETTER          37987  \n",
       "4  PACKAGE_THICK_ENVELOPE          30976  \n",
       "\n",
       "[5 rows x 31 columns]"
      ]
     },
     "execution_count": 24,
     "metadata": {},
     "output_type": "execute_result"
    }
   ],
   "source": [
    "df.head()"
   ]
  },
  {
   "cell_type": "markdown",
   "id": "e3fc2bec",
   "metadata": {},
   "source": [
    "Lets check for missing values in our dataset."
   ]
  },
  {
   "cell_type": "code",
   "execution_count": 27,
   "id": "96e99c2a",
   "metadata": {},
   "outputs": [
    {
     "data": {
      "text/html": [
       "<div>\n",
       "<style scoped>\n",
       "    .dataframe tbody tr th:only-of-type {\n",
       "        vertical-align: middle;\n",
       "    }\n",
       "\n",
       "    .dataframe tbody tr th {\n",
       "        vertical-align: top;\n",
       "    }\n",
       "\n",
       "    .dataframe thead th {\n",
       "        text-align: right;\n",
       "    }\n",
       "</style>\n",
       "<table border=\"1\" class=\"dataframe\">\n",
       "  <thead>\n",
       "    <tr style=\"text-align: right;\">\n",
       "      <th></th>\n",
       "      <th>Number of missing values in Train</th>\n",
       "    </tr>\n",
       "  </thead>\n",
       "  <tbody>\n",
       "    <tr>\n",
       "      <th>declared_handling_days</th>\n",
       "      <td>2480</td>\n",
       "    </tr>\n",
       "    <tr>\n",
       "      <th>zip_x</th>\n",
       "      <td>0</td>\n",
       "    </tr>\n",
       "    <tr>\n",
       "      <th>shipment_method_id</th>\n",
       "      <td>0</td>\n",
       "    </tr>\n",
       "  </tbody>\n",
       "</table>\n",
       "</div>"
      ],
      "text/plain": [
       "                         Number of missing values in Train\n",
       "declared_handling_days                                2480\n",
       "zip_x                                                    0\n",
       "shipment_method_id                                       0"
      ]
     },
     "execution_count": 27,
     "metadata": {},
     "output_type": "execute_result"
    }
   ],
   "source": [
    "na_val = pd.DataFrame(df.isna().sum())\n",
    "top_na = na_val.sort_values(by = 0 , ascending = False)[:3]\n",
    "top_na[0] = (top_na[0])\n",
    "top_na.rename(columns = {0:' Number of missing values in Train'})"
   ]
  },
  {
   "cell_type": "code",
   "execution_count": 28,
   "id": "1e3279ac",
   "metadata": {},
   "outputs": [
    {
     "data": {
      "text/html": [
       "<div>\n",
       "<style scoped>\n",
       "    .dataframe tbody tr th:only-of-type {\n",
       "        vertical-align: middle;\n",
       "    }\n",
       "\n",
       "    .dataframe tbody tr th {\n",
       "        vertical-align: top;\n",
       "    }\n",
       "\n",
       "    .dataframe thead th {\n",
       "        text-align: right;\n",
       "    }\n",
       "</style>\n",
       "<table border=\"1\" class=\"dataframe\">\n",
       "  <thead>\n",
       "    <tr style=\"text-align: right;\">\n",
       "      <th></th>\n",
       "      <th>zip_x</th>\n",
       "      <th>buyer_lat</th>\n",
       "      <th>buyer_lng</th>\n",
       "      <th>city_x</th>\n",
       "      <th>state_id_x</th>\n",
       "      <th>state_name_x</th>\n",
       "      <th>zip_y</th>\n",
       "      <th>item_lat</th>\n",
       "      <th>item_lng</th>\n",
       "      <th>city_y</th>\n",
       "      <th>...</th>\n",
       "      <th>buyer_zip</th>\n",
       "      <th>category_id</th>\n",
       "      <th>item_price</th>\n",
       "      <th>quantity</th>\n",
       "      <th>payment_datetime</th>\n",
       "      <th>delivery_date</th>\n",
       "      <th>weight</th>\n",
       "      <th>weight_units</th>\n",
       "      <th>package_size</th>\n",
       "      <th>record_number</th>\n",
       "    </tr>\n",
       "  </thead>\n",
       "  <tbody>\n",
       "    <tr>\n",
       "      <th>0</th>\n",
       "      <td>1001</td>\n",
       "      <td>42.06258</td>\n",
       "      <td>-72.6259</td>\n",
       "      <td>Agawam</td>\n",
       "      <td>MA</td>\n",
       "      <td>Massachusetts</td>\n",
       "      <td>6255</td>\n",
       "      <td>41.98828</td>\n",
       "      <td>-71.90256</td>\n",
       "      <td>North Grosvenordale</td>\n",
       "      <td>...</td>\n",
       "      <td>1001</td>\n",
       "      <td>25</td>\n",
       "      <td>94.00</td>\n",
       "      <td>1</td>\n",
       "      <td>2018-03-06</td>\n",
       "      <td>2018-03-10</td>\n",
       "      <td>0</td>\n",
       "      <td>1</td>\n",
       "      <td>PACKAGE_THICK_ENVELOPE</td>\n",
       "      <td>4092</td>\n",
       "    </tr>\n",
       "    <tr>\n",
       "      <th>1</th>\n",
       "      <td>1001</td>\n",
       "      <td>42.06258</td>\n",
       "      <td>-72.6259</td>\n",
       "      <td>Agawam</td>\n",
       "      <td>MA</td>\n",
       "      <td>Massachusetts</td>\n",
       "      <td>19114</td>\n",
       "      <td>40.06736</td>\n",
       "      <td>-75.00358</td>\n",
       "      <td>Philadelphia</td>\n",
       "      <td>...</td>\n",
       "      <td>1001</td>\n",
       "      <td>0</td>\n",
       "      <td>8.00</td>\n",
       "      <td>1</td>\n",
       "      <td>2018-11-17</td>\n",
       "      <td>2018-11-23</td>\n",
       "      <td>0</td>\n",
       "      <td>1</td>\n",
       "      <td>PACKAGE_THICK_ENVELOPE</td>\n",
       "      <td>301</td>\n",
       "    </tr>\n",
       "    <tr>\n",
       "      <th>2</th>\n",
       "      <td>1001</td>\n",
       "      <td>42.06258</td>\n",
       "      <td>-72.6259</td>\n",
       "      <td>Agawam</td>\n",
       "      <td>MA</td>\n",
       "      <td>Massachusetts</td>\n",
       "      <td>33126</td>\n",
       "      <td>25.77984</td>\n",
       "      <td>-80.29887</td>\n",
       "      <td>Miami</td>\n",
       "      <td>...</td>\n",
       "      <td>1001</td>\n",
       "      <td>2</td>\n",
       "      <td>59.99</td>\n",
       "      <td>1</td>\n",
       "      <td>2019-09-20</td>\n",
       "      <td>2019-09-25</td>\n",
       "      <td>0</td>\n",
       "      <td>1</td>\n",
       "      <td>NONE</td>\n",
       "      <td>11395</td>\n",
       "    </tr>\n",
       "    <tr>\n",
       "      <th>3</th>\n",
       "      <td>1001</td>\n",
       "      <td>42.06258</td>\n",
       "      <td>-72.6259</td>\n",
       "      <td>Agawam</td>\n",
       "      <td>MA</td>\n",
       "      <td>Massachusetts</td>\n",
       "      <td>64068</td>\n",
       "      <td>39.25949</td>\n",
       "      <td>-94.38879</td>\n",
       "      <td>Liberty</td>\n",
       "      <td>...</td>\n",
       "      <td>1001</td>\n",
       "      <td>0</td>\n",
       "      <td>14.98</td>\n",
       "      <td>1</td>\n",
       "      <td>2018-02-21</td>\n",
       "      <td>2018-02-24</td>\n",
       "      <td>0</td>\n",
       "      <td>1</td>\n",
       "      <td>LETTER</td>\n",
       "      <td>37987</td>\n",
       "    </tr>\n",
       "    <tr>\n",
       "      <th>4</th>\n",
       "      <td>1001</td>\n",
       "      <td>42.06258</td>\n",
       "      <td>-72.6259</td>\n",
       "      <td>Agawam</td>\n",
       "      <td>MA</td>\n",
       "      <td>Massachusetts</td>\n",
       "      <td>84062</td>\n",
       "      <td>40.43484</td>\n",
       "      <td>-111.67779</td>\n",
       "      <td>Pleasant Grove</td>\n",
       "      <td>...</td>\n",
       "      <td>1001</td>\n",
       "      <td>10</td>\n",
       "      <td>5.99</td>\n",
       "      <td>1</td>\n",
       "      <td>2019-10-30</td>\n",
       "      <td>2019-11-02</td>\n",
       "      <td>0</td>\n",
       "      <td>1</td>\n",
       "      <td>PACKAGE_THICK_ENVELOPE</td>\n",
       "      <td>30976</td>\n",
       "    </tr>\n",
       "  </tbody>\n",
       "</table>\n",
       "<p>5 rows × 31 columns</p>\n",
       "</div>"
      ],
      "text/plain": [
       "  zip_x buyer_lat buyer_lng  city_x state_id_x   state_name_x  zip_y  \\\n",
       "0  1001  42.06258  -72.6259  Agawam         MA  Massachusetts   6255   \n",
       "1  1001  42.06258  -72.6259  Agawam         MA  Massachusetts  19114   \n",
       "2  1001  42.06258  -72.6259  Agawam         MA  Massachusetts  33126   \n",
       "3  1001  42.06258  -72.6259  Agawam         MA  Massachusetts  64068   \n",
       "4  1001  42.06258  -72.6259  Agawam         MA  Massachusetts  84062   \n",
       "\n",
       "   item_lat   item_lng               city_y  ... buyer_zip category_id  \\\n",
       "0  41.98828  -71.90256  North Grosvenordale  ...      1001          25   \n",
       "1  40.06736  -75.00358         Philadelphia  ...      1001           0   \n",
       "2  25.77984  -80.29887                Miami  ...      1001           2   \n",
       "3  39.25949  -94.38879              Liberty  ...      1001           0   \n",
       "4  40.43484 -111.67779       Pleasant Grove  ...      1001          10   \n",
       "\n",
       "  item_price  quantity  payment_datetime delivery_date  weight  weight_units  \\\n",
       "0      94.00         1        2018-03-06    2018-03-10       0             1   \n",
       "1       8.00         1        2018-11-17    2018-11-23       0             1   \n",
       "2      59.99         1        2019-09-20    2019-09-25       0             1   \n",
       "3      14.98         1        2018-02-21    2018-02-24       0             1   \n",
       "4       5.99         1        2019-10-30    2019-11-02       0             1   \n",
       "\n",
       "             package_size  record_number  \n",
       "0  PACKAGE_THICK_ENVELOPE           4092  \n",
       "1  PACKAGE_THICK_ENVELOPE            301  \n",
       "2                    NONE          11395  \n",
       "3                  LETTER          37987  \n",
       "4  PACKAGE_THICK_ENVELOPE          30976  \n",
       "\n",
       "[5 rows x 31 columns]"
      ]
     },
     "execution_count": 28,
     "metadata": {},
     "output_type": "execute_result"
    }
   ],
   "source": [
    "df.head()"
   ]
  },
  {
   "cell_type": "markdown",
   "id": "b5afb651",
   "metadata": {},
   "source": [
    "Since we have ample records, we can drop missing values instead of using ffill, bfill, etc."
   ]
  },
  {
   "cell_type": "code",
   "execution_count": 25,
   "id": "e6f3cd43",
   "metadata": {},
   "outputs": [],
   "source": [
    "df.dropna(inplace = True)"
   ]
  },
  {
   "cell_type": "code",
   "execution_count": 46,
   "id": "087250b6",
   "metadata": {},
   "outputs": [],
   "source": [
    "df['buyer_lng'] = df['buyer_lng'].astype(float)\n",
    "df['item_lng'] = df['item_lng'].astype(float)\n",
    "df['buyer_lat'] = df['buyer_lat'].astype(float)\n",
    "df['item_lat'] = df['item_lat'].astype(float)\n"
   ]
  },
  {
   "cell_type": "markdown",
   "id": "96d017cd",
   "metadata": {},
   "source": [
    "Through the zipcodes it is possible to find the various information about buyer and seller. \n",
    "First, I will be finding the distance between the item and the buyer on the basis of longitudes and latitudes by extracting it from the zipcode \n"
   ]
  },
  {
   "cell_type": "code",
   "execution_count": 47,
   "id": "31203eec",
   "metadata": {},
   "outputs": [],
   "source": [
    "\n",
    "#converting the cordinates into radians\n",
    "buyer_lng=np.radians(df['buyer_lng'])\n",
    "item_lng=np.radians(df['item_lng'])\n",
    "buyer_lat=np.radians(df['buyer_lat'])\n",
    "item_lat=np.radians(df['item_lat'])\n",
    "\n",
    "dlon = buyer_lng - item_lng\n",
    "dlat = buyer_lat - item_lat\n",
    "\n",
    "# using haversine formula\n",
    "a = np.sin(dlat/2)**2 + np.cos(buyer_lat) * np.cos(item_lat) * np.sin(dlon/2)**2\n",
    "\n",
    "c = 2 * np.arcsin(np.sqrt(a)) \n",
    "\n",
    "# Radius of earth in kilometers is 6371\n",
    "km = 6371* c\n",
    "\n",
    "df['distance'] = km"
   ]
  },
  {
   "cell_type": "markdown",
   "id": "823b0de9",
   "metadata": {},
   "source": [
    "Delivery days can be calcualted by subtracting the delivery_date and payment_date. \n",
    "This can be done by using to_datetime() function.\n",
    ".to_datetime() is used to chage the format of the columns to date\n",
    "delivery days = delivery date - payment date\n"
   ]
  },
  {
   "cell_type": "code",
   "execution_count": 48,
   "id": "7b53bedb",
   "metadata": {},
   "outputs": [],
   "source": [
    "df['delivery_days']  = ((pd.to_datetime(df['delivery_date']) - pd.to_datetime(df['payment_datetime'])).astype('timedelta64[D]')).astype(int)"
   ]
  },
  {
   "cell_type": "markdown",
   "id": "524071f3",
   "metadata": {},
   "source": [
    "I will aslo find the delay in payment acceptance to get more insights on delay in payment time.\n",
    "The delay in acceptance can be caluclated by \n",
    "delay in acceptance = acceptance time - payment time"
   ]
  },
  {
   "cell_type": "code",
   "execution_count": 49,
   "id": "374a1e43",
   "metadata": {},
   "outputs": [],
   "source": [
    "df['del_to_pay'] = ((pd.to_datetime(df['acceptance_scan_timestamp']) - pd.to_datetime(df['payment_datetime'])).astype('timedelta64[D]')).astype(int)"
   ]
  },
  {
   "cell_type": "markdown",
   "id": "bc253c2d",
   "metadata": {},
   "source": [
    "I am assuming that the delivery days should be more than or equal to zero.\n",
    "I am assuming that all payments were made through online or card before placing the order. \n",
    "If delivery day is less than zero , I am assuming that it was either error or the payment was accepted after the delivery was done.\n",
    "It could also mean that it was cash on/after delivery.\n",
    "If such records are encountered, i will be dropping them as well."
   ]
  },
  {
   "cell_type": "code",
   "execution_count": 61,
   "id": "ca12be0d",
   "metadata": {},
   "outputs": [],
   "source": [
    "df = df[df['delivery_days'] >= 0]"
   ]
  },
  {
   "cell_type": "markdown",
   "id": "b62af6a9",
   "metadata": {},
   "source": [
    "Lets reorgranize the dataset by keeping only necessary columns."
   ]
  },
  {
   "cell_type": "code",
   "execution_count": 62,
   "id": "27cad06b",
   "metadata": {},
   "outputs": [],
   "source": [
    "#sorting the columns by record number\n",
    "df = df.sort_values(by=['record_number'])"
   ]
  },
  {
   "cell_type": "code",
   "execution_count": 33,
   "id": "fa6d8204",
   "metadata": {},
   "outputs": [],
   "source": [
    "#dropping unnecessary columns\n",
    "df = df[['b2c_c2c', 'declared_handling_days', 'shipment_method_id', 'shipping_fee',\n",
    "       'carrier_min_estimate', 'carrier_max_estimate',\n",
    "       'category_id', 'item_price', 'quantity',\n",
    "       'weight', 'weight_units', 'package_size',\n",
    "       'distance', 'delivery_days', 'del_to_pay', 'state_name_x', 'state_name_y', 'seller_id' ]]"
   ]
  },
  {
   "cell_type": "code",
   "execution_count": 34,
   "id": "568e8fb3",
   "metadata": {},
   "outputs": [
    {
     "name": "stdout",
     "output_type": "stream",
     "text": [
      "<class 'pandas.core.frame.DataFrame'>\n",
      "Int64Index: 46269 entries, 25183 to 24980\n",
      "Data columns (total 18 columns):\n",
      " #   Column                  Non-Null Count  Dtype  \n",
      "---  ------                  --------------  -----  \n",
      " 0   b2c_c2c                 46269 non-null  object \n",
      " 1   declared_handling_days  46269 non-null  float64\n",
      " 2   shipment_method_id      46269 non-null  int64  \n",
      " 3   shipping_fee            46269 non-null  float64\n",
      " 4   carrier_min_estimate    46269 non-null  int64  \n",
      " 5   carrier_max_estimate    46269 non-null  int64  \n",
      " 6   category_id             46269 non-null  int64  \n",
      " 7   item_price              46269 non-null  float64\n",
      " 8   quantity                46269 non-null  int64  \n",
      " 9   weight                  46269 non-null  int64  \n",
      " 10  weight_units            46269 non-null  int64  \n",
      " 11  package_size            46269 non-null  object \n",
      " 12  distance                46269 non-null  float64\n",
      " 13  delivery_days           46269 non-null  int32  \n",
      " 14  del_to_pay              46269 non-null  int32  \n",
      " 15  state_name_x            46269 non-null  object \n",
      " 16  state_name_y            46269 non-null  object \n",
      " 17  seller_id               46269 non-null  int64  \n",
      "dtypes: float64(4), int32(2), int64(8), object(4)\n",
      "memory usage: 6.4+ MB\n"
     ]
    }
   ],
   "source": [
    "df.info()"
   ]
  },
  {
   "cell_type": "markdown",
   "id": "951993a0",
   "metadata": {},
   "source": [
    "# EDA"
   ]
  },
  {
   "cell_type": "markdown",
   "id": "acc467a5",
   "metadata": {},
   "source": [
    "### Which state has the maximum businessess or seller?"
   ]
  },
  {
   "cell_type": "code",
   "execution_count": 63,
   "id": "a84bb6d5",
   "metadata": {},
   "outputs": [
    {
     "data": {
      "text/html": [
       "<div>\n",
       "<style scoped>\n",
       "    .dataframe tbody tr th:only-of-type {\n",
       "        vertical-align: middle;\n",
       "    }\n",
       "\n",
       "    .dataframe tbody tr th {\n",
       "        vertical-align: top;\n",
       "    }\n",
       "\n",
       "    .dataframe thead th {\n",
       "        text-align: right;\n",
       "    }\n",
       "</style>\n",
       "<table border=\"1\" class=\"dataframe\">\n",
       "  <thead>\n",
       "    <tr style=\"text-align: right;\">\n",
       "      <th></th>\n",
       "      <th>State</th>\n",
       "      <th>Seller</th>\n",
       "    </tr>\n",
       "  </thead>\n",
       "  <tbody>\n",
       "    <tr>\n",
       "      <th>3</th>\n",
       "      <td>California</td>\n",
       "      <td>6073</td>\n",
       "    </tr>\n",
       "    <tr>\n",
       "      <th>41</th>\n",
       "      <td>Texas</td>\n",
       "      <td>3670</td>\n",
       "    </tr>\n",
       "    <tr>\n",
       "      <th>8</th>\n",
       "      <td>Florida</td>\n",
       "      <td>3501</td>\n",
       "    </tr>\n",
       "    <tr>\n",
       "      <th>30</th>\n",
       "      <td>New York</td>\n",
       "      <td>2985</td>\n",
       "    </tr>\n",
       "    <tr>\n",
       "      <th>36</th>\n",
       "      <td>Pennsylvania</td>\n",
       "      <td>2130</td>\n",
       "    </tr>\n",
       "    <tr>\n",
       "      <th>33</th>\n",
       "      <td>Ohio</td>\n",
       "      <td>1889</td>\n",
       "    </tr>\n",
       "    <tr>\n",
       "      <th>11</th>\n",
       "      <td>Illinois</td>\n",
       "      <td>1860</td>\n",
       "    </tr>\n",
       "    <tr>\n",
       "      <th>45</th>\n",
       "      <td>Washington</td>\n",
       "      <td>1708</td>\n",
       "    </tr>\n",
       "    <tr>\n",
       "      <th>31</th>\n",
       "      <td>North Carolina</td>\n",
       "      <td>1472</td>\n",
       "    </tr>\n",
       "    <tr>\n",
       "      <th>20</th>\n",
       "      <td>Michigan</td>\n",
       "      <td>1422</td>\n",
       "    </tr>\n",
       "  </tbody>\n",
       "</table>\n",
       "</div>"
      ],
      "text/plain": [
       "             State  Seller\n",
       "3       California    6073\n",
       "41           Texas    3670\n",
       "8          Florida    3501\n",
       "30        New York    2985\n",
       "36    Pennsylvania    2130\n",
       "33            Ohio    1889\n",
       "11        Illinois    1860\n",
       "45      Washington    1708\n",
       "31  North Carolina    1472\n",
       "20        Michigan    1422"
      ]
     },
     "execution_count": 63,
     "metadata": {},
     "output_type": "execute_result"
    }
   ],
   "source": [
    "#number of seller per state\n",
    "df_sl = df.groupby(['state_name_x'])['state_name_x'].count()\n",
    "df_sl = pd.DataFrame({'State': df_sl.index, 'Seller':df_sl.values })\n",
    "#sorting based on the max number of sellers per state\n",
    "df_sl = df_sl.sort_values('Seller', ascending = False)\n",
    "df_sl[:10]"
   ]
  },
  {
   "cell_type": "code",
   "execution_count": 65,
   "id": "f85fb3fa",
   "metadata": {},
   "outputs": [
    {
     "data": {
      "text/plain": [
       "<matplotlib.axes._subplots.AxesSubplot at 0x2726ec073c8>"
      ]
     },
     "execution_count": 65,
     "metadata": {},
     "output_type": "execute_result"
    },
    {
     "data": {
      "image/png": "[encoded data removed]",
      "text/plain": [
       "<Figure size 432x288 with 1 Axes>"
      ]
     },
     "metadata": {
      "needs_background": "light"
     },
     "output_type": "display_data"
    }
   ],
   "source": [
    "sns.barplot(x=df_sl['State'][:5], y=df_sl['Seller'])"
   ]
  },
  {
   "cell_type": "markdown",
   "id": "c9ee056e",
   "metadata": {},
   "source": [
    "California has the maximum number of sellers on ebay followed by texas and florida."
   ]
  },
  {
   "cell_type": "markdown",
   "id": "309dd38d",
   "metadata": {},
   "source": [
    "### Which state has maximum buyer?"
   ]
  },
  {
   "cell_type": "code",
   "execution_count": 67,
   "id": "d44561f1",
   "metadata": {},
   "outputs": [
    {
     "data": {
      "text/html": [
       "<div>\n",
       "<style scoped>\n",
       "    .dataframe tbody tr th:only-of-type {\n",
       "        vertical-align: middle;\n",
       "    }\n",
       "\n",
       "    .dataframe tbody tr th {\n",
       "        vertical-align: top;\n",
       "    }\n",
       "\n",
       "    .dataframe thead th {\n",
       "        text-align: right;\n",
       "    }\n",
       "</style>\n",
       "<table border=\"1\" class=\"dataframe\">\n",
       "  <thead>\n",
       "    <tr style=\"text-align: right;\">\n",
       "      <th></th>\n",
       "      <th>State</th>\n",
       "      <th>Buyer</th>\n",
       "    </tr>\n",
       "  </thead>\n",
       "  <tbody>\n",
       "    <tr>\n",
       "      <th>3</th>\n",
       "      <td>California</td>\n",
       "      <td>8573</td>\n",
       "    </tr>\n",
       "    <tr>\n",
       "      <th>8</th>\n",
       "      <td>Florida</td>\n",
       "      <td>4018</td>\n",
       "    </tr>\n",
       "    <tr>\n",
       "      <th>31</th>\n",
       "      <td>New York</td>\n",
       "      <td>3556</td>\n",
       "    </tr>\n",
       "    <tr>\n",
       "      <th>43</th>\n",
       "      <td>Texas</td>\n",
       "      <td>2652</td>\n",
       "    </tr>\n",
       "    <tr>\n",
       "      <th>12</th>\n",
       "      <td>Illinois</td>\n",
       "      <td>2340</td>\n",
       "    </tr>\n",
       "    <tr>\n",
       "      <th>47</th>\n",
       "      <td>Washington</td>\n",
       "      <td>2191</td>\n",
       "    </tr>\n",
       "    <tr>\n",
       "      <th>37</th>\n",
       "      <td>Pennsylvania</td>\n",
       "      <td>2034</td>\n",
       "    </tr>\n",
       "    <tr>\n",
       "      <th>29</th>\n",
       "      <td>New Jersey</td>\n",
       "      <td>2028</td>\n",
       "    </tr>\n",
       "    <tr>\n",
       "      <th>34</th>\n",
       "      <td>Ohio</td>\n",
       "      <td>1599</td>\n",
       "    </tr>\n",
       "    <tr>\n",
       "      <th>21</th>\n",
       "      <td>Michigan</td>\n",
       "      <td>1511</td>\n",
       "    </tr>\n",
       "  </tbody>\n",
       "</table>\n",
       "</div>"
      ],
      "text/plain": [
       "           State  Buyer\n",
       "3     California   8573\n",
       "8        Florida   4018\n",
       "31      New York   3556\n",
       "43         Texas   2652\n",
       "12      Illinois   2340\n",
       "47    Washington   2191\n",
       "37  Pennsylvania   2034\n",
       "29    New Jersey   2028\n",
       "34          Ohio   1599\n",
       "21      Michigan   1511"
      ]
     },
     "execution_count": 67,
     "metadata": {},
     "output_type": "execute_result"
    }
   ],
   "source": [
    "#number of  buyer per state\n",
    "df_by = df.groupby(['state_name_y'])['state_name_y'].count()\n",
    "df_by = pd.DataFrame({'State': df_by.index, 'Buyer':df_by.values })\n",
    "#sorting based on the max number of sellers per state\n",
    "df_by = df_by.sort_values('Buyer', ascending = False)\n",
    "df_by[:10]"
   ]
  },
  {
   "cell_type": "code",
   "execution_count": 73,
   "id": "298aeafa",
   "metadata": {},
   "outputs": [
    {
     "data": {
      "text/plain": [
       "<matplotlib.axes._subplots.AxesSubplot at 0x272707f4288>"
      ]
     },
     "execution_count": 73,
     "metadata": {},
     "output_type": "execute_result"
    },
    {
     "data": {
      "image/png": "[encoded data removed]",
      "text/plain": [
       "<Figure size 1008x360 with 1 Axes>"
      ]
     },
     "metadata": {
      "needs_background": "light"
     },
     "output_type": "display_data"
    }
   ],
   "source": [
    "#visualizing the records\n",
    "sns.barplot(x=df_by['State'][:5], y=df_by['Buyer'])\n"
   ]
  },
  {
   "cell_type": "markdown",
   "id": "aa6024b8",
   "metadata": {},
   "source": [
    "The maximum number of buyers are from California, Florida, New York."
   ]
  },
  {
   "cell_type": "markdown",
   "id": "b21ea238",
   "metadata": {},
   "source": [
    "### Which seller has the minimum average delivery time?"
   ]
  },
  {
   "cell_type": "code",
   "execution_count": 77,
   "id": "ab1b44d1",
   "metadata": {},
   "outputs": [
    {
     "data": {
      "text/html": [
       "<div>\n",
       "<style scoped>\n",
       "    .dataframe tbody tr th:only-of-type {\n",
       "        vertical-align: middle;\n",
       "    }\n",
       "\n",
       "    .dataframe tbody tr th {\n",
       "        vertical-align: top;\n",
       "    }\n",
       "\n",
       "    .dataframe thead th {\n",
       "        text-align: right;\n",
       "    }\n",
       "</style>\n",
       "<table border=\"1\" class=\"dataframe\">\n",
       "  <thead>\n",
       "    <tr style=\"text-align: right;\">\n",
       "      <th></th>\n",
       "      <th>seller_id</th>\n",
       "      <th>delivery_days</th>\n",
       "    </tr>\n",
       "  </thead>\n",
       "  <tbody>\n",
       "    <tr>\n",
       "      <th>15021</th>\n",
       "      <td>173895</td>\n",
       "      <td>0.0</td>\n",
       "    </tr>\n",
       "    <tr>\n",
       "      <th>22001</th>\n",
       "      <td>581457</td>\n",
       "      <td>0.0</td>\n",
       "    </tr>\n",
       "    <tr>\n",
       "      <th>24360</th>\n",
       "      <td>1010210</td>\n",
       "      <td>0.0</td>\n",
       "    </tr>\n",
       "    <tr>\n",
       "      <th>25821</th>\n",
       "      <td>1600621</td>\n",
       "      <td>0.0</td>\n",
       "    </tr>\n",
       "    <tr>\n",
       "      <th>27255</th>\n",
       "      <td>3435769</td>\n",
       "      <td>0.0</td>\n",
       "    </tr>\n",
       "  </tbody>\n",
       "</table>\n",
       "</div>"
      ],
      "text/plain": [
       "       seller_id  delivery_days\n",
       "15021     173895            0.0\n",
       "22001     581457            0.0\n",
       "24360    1010210            0.0\n",
       "25821    1600621            0.0\n",
       "27255    3435769            0.0"
      ]
     },
     "execution_count": 77,
     "metadata": {},
     "output_type": "execute_result"
    }
   ],
   "source": [
    "df_sl_d = df.groupby(['seller_id'])['delivery_days'].mean()\n",
    "df_sl_d = pd.DataFrame({'seller_id': df_sl_d.index, 'delivery_days':df_sl_d.values })\n",
    "#sorting based on the delivery days\n",
    "df_sl_d = df_sl_d.sort_values('delivery_days')\n",
    "df_sl_d[df_sl_d[\"delivery_days\"]>=0][:5]"
   ]
  },
  {
   "cell_type": "markdown",
   "id": "d5e7ac3b",
   "metadata": {},
   "source": [
    "The top sellers that have minimum delivery times can be seen in the table above"
   ]
  },
  {
   "cell_type": "markdown",
   "id": "5ebb5ac0",
   "metadata": {},
   "source": [
    "### What are the average delivery time for B2C and C2C sellers?"
   ]
  },
  {
   "cell_type": "code",
   "execution_count": 78,
   "id": "06212189",
   "metadata": {},
   "outputs": [
    {
     "data": {
      "text/html": [
       "<div>\n",
       "<style scoped>\n",
       "    .dataframe tbody tr th:only-of-type {\n",
       "        vertical-align: middle;\n",
       "    }\n",
       "\n",
       "    .dataframe tbody tr th {\n",
       "        vertical-align: top;\n",
       "    }\n",
       "\n",
       "    .dataframe thead th {\n",
       "        text-align: right;\n",
       "    }\n",
       "</style>\n",
       "<table border=\"1\" class=\"dataframe\">\n",
       "  <thead>\n",
       "    <tr style=\"text-align: right;\">\n",
       "      <th></th>\n",
       "      <th>b2c_c2c</th>\n",
       "      <th>delivery_days</th>\n",
       "    </tr>\n",
       "  </thead>\n",
       "  <tbody>\n",
       "    <tr>\n",
       "      <th>0</th>\n",
       "      <td>B2C</td>\n",
       "      <td>4.699910</td>\n",
       "    </tr>\n",
       "    <tr>\n",
       "      <th>1</th>\n",
       "      <td>C2C</td>\n",
       "      <td>4.951389</td>\n",
       "    </tr>\n",
       "  </tbody>\n",
       "</table>\n",
       "</div>"
      ],
      "text/plain": [
       "  b2c_c2c  delivery_days\n",
       "0     B2C       4.699910\n",
       "1     C2C       4.951389"
      ]
     },
     "execution_count": 78,
     "metadata": {},
     "output_type": "execute_result"
    }
   ],
   "source": [
    "df_sm = df.groupby(['b2c_c2c'])['delivery_days'].mean()\n",
    "df_sm = pd.DataFrame({'b2c_c2c': df_sm.index, 'delivery_days':df_sm.values })\n",
    "#sorting based on the delivery days\n",
    "df_sm = df_sm.sort_values('delivery_days')\n",
    "df_sm"
   ]
  },
  {
   "cell_type": "code",
   "execution_count": 92,
   "id": "86a3ef7c",
   "metadata": {},
   "outputs": [
    {
     "data": {
      "image/png": "[encoded data removed]",
      "text/plain": [
       "<Figure size 216x288 with 1 Axes>"
      ]
     },
     "metadata": {
      "needs_background": "light"
     },
     "output_type": "display_data"
    }
   ],
   "source": [
    "#visualizing\n",
    "sns.barplot(x = df_sm['b2c_c2c'], y = df_sm['delivery_days'])\n",
    "plt.rcParams[\"figure.figsize\"] = (3, 4)"
   ]
  },
  {
   "cell_type": "markdown",
   "id": "db902ecf",
   "metadata": {},
   "source": [
    "Generally the delivery time for C2C is a bit higher than B2C"
   ]
  },
  {
   "cell_type": "markdown",
   "id": "4752e63b",
   "metadata": {},
   "source": [
    "### Does package size affect the delivery days?"
   ]
  },
  {
   "cell_type": "code",
   "execution_count": 93,
   "id": "e14893d8",
   "metadata": {},
   "outputs": [
    {
     "data": {
      "text/html": [
       "<div>\n",
       "<style scoped>\n",
       "    .dataframe tbody tr th:only-of-type {\n",
       "        vertical-align: middle;\n",
       "    }\n",
       "\n",
       "    .dataframe tbody tr th {\n",
       "        vertical-align: top;\n",
       "    }\n",
       "\n",
       "    .dataframe thead th {\n",
       "        text-align: right;\n",
       "    }\n",
       "</style>\n",
       "<table border=\"1\" class=\"dataframe\">\n",
       "  <thead>\n",
       "    <tr style=\"text-align: right;\">\n",
       "      <th></th>\n",
       "      <th>package_size</th>\n",
       "      <th>delivery_days</th>\n",
       "    </tr>\n",
       "  </thead>\n",
       "  <tbody>\n",
       "    <tr>\n",
       "      <th>4</th>\n",
       "      <td>PACKAGE_THICK_ENVELOPE</td>\n",
       "      <td>4.667084</td>\n",
       "    </tr>\n",
       "    <tr>\n",
       "      <th>0</th>\n",
       "      <td>LARGE_ENVELOPE</td>\n",
       "      <td>4.713521</td>\n",
       "    </tr>\n",
       "    <tr>\n",
       "      <th>1</th>\n",
       "      <td>LARGE_PACKAGE</td>\n",
       "      <td>4.813285</td>\n",
       "    </tr>\n",
       "    <tr>\n",
       "      <th>2</th>\n",
       "      <td>LETTER</td>\n",
       "      <td>4.826196</td>\n",
       "    </tr>\n",
       "    <tr>\n",
       "      <th>3</th>\n",
       "      <td>NONE</td>\n",
       "      <td>5.848926</td>\n",
       "    </tr>\n",
       "  </tbody>\n",
       "</table>\n",
       "</div>"
      ],
      "text/plain": [
       "             package_size  delivery_days\n",
       "4  PACKAGE_THICK_ENVELOPE       4.667084\n",
       "0          LARGE_ENVELOPE       4.713521\n",
       "1           LARGE_PACKAGE       4.813285\n",
       "2                  LETTER       4.826196\n",
       "3                    NONE       5.848926"
      ]
     },
     "execution_count": 93,
     "metadata": {},
     "output_type": "execute_result"
    }
   ],
   "source": [
    "df_ps = df.groupby(['package_size'])['delivery_days'].mean()\n",
    "df_ps = pd.DataFrame({'package_size': df_ps.index, 'delivery_days':df_ps.values })\n",
    "#sorting based on the delivery days\n",
    "df_ps = df_ps.sort_values('delivery_days')\n",
    "df_ps"
   ]
  },
  {
   "cell_type": "code",
   "execution_count": 96,
   "id": "f0e41cc4",
   "metadata": {},
   "outputs": [
    {
     "data": {
      "image/png": "[encoded data removed]",
      "text/plain": [
       "<Figure size 864x504 with 1 Axes>"
      ]
     },
     "metadata": {
      "needs_background": "light"
     },
     "output_type": "display_data"
    }
   ],
   "source": [
    "#visualizing\n",
    "sns.barplot(x = df_ps['package_size'], y = df_ps['delivery_days'])\n",
    "plt.rcParams[\"figure.figsize\"] = (12, 7)"
   ]
  },
  {
   "cell_type": "markdown",
   "id": "fcdc145a",
   "metadata": {},
   "source": [
    "Suprsingly the delivery days are not much affected by the package size on ebay."
   ]
  },
  {
   "cell_type": "markdown",
   "id": "aa088d33",
   "metadata": {},
   "source": [
    "### Which logistics provider has minimum average delivery days? "
   ]
  },
  {
   "cell_type": "code",
   "execution_count": 97,
   "id": "d0a2cbcc",
   "metadata": {},
   "outputs": [
    {
     "data": {
      "text/html": [
       "<div>\n",
       "<style scoped>\n",
       "    .dataframe tbody tr th:only-of-type {\n",
       "        vertical-align: middle;\n",
       "    }\n",
       "\n",
       "    .dataframe tbody tr th {\n",
       "        vertical-align: top;\n",
       "    }\n",
       "\n",
       "    .dataframe thead th {\n",
       "        text-align: right;\n",
       "    }\n",
       "</style>\n",
       "<table border=\"1\" class=\"dataframe\">\n",
       "  <thead>\n",
       "    <tr style=\"text-align: right;\">\n",
       "      <th></th>\n",
       "      <th>shipment_method_id</th>\n",
       "      <th>delivery_days</th>\n",
       "    </tr>\n",
       "  </thead>\n",
       "  <tbody>\n",
       "    <tr>\n",
       "      <th>13</th>\n",
       "      <td>15</td>\n",
       "      <td>3.000000</td>\n",
       "    </tr>\n",
       "    <tr>\n",
       "      <th>12</th>\n",
       "      <td>13</td>\n",
       "      <td>3.500000</td>\n",
       "    </tr>\n",
       "    <tr>\n",
       "      <th>5</th>\n",
       "      <td>5</td>\n",
       "      <td>3.989583</td>\n",
       "    </tr>\n",
       "    <tr>\n",
       "      <th>8</th>\n",
       "      <td>8</td>\n",
       "      <td>4.097087</td>\n",
       "    </tr>\n",
       "    <tr>\n",
       "      <th>6</th>\n",
       "      <td>6</td>\n",
       "      <td>4.249117</td>\n",
       "    </tr>\n",
       "  </tbody>\n",
       "</table>\n",
       "</div>"
      ],
      "text/plain": [
       "    shipment_method_id  delivery_days\n",
       "13                  15       3.000000\n",
       "12                  13       3.500000\n",
       "5                    5       3.989583\n",
       "8                    8       4.097087\n",
       "6                    6       4.249117"
      ]
     },
     "execution_count": 97,
     "metadata": {},
     "output_type": "execute_result"
    }
   ],
   "source": [
    "df_lp = df.groupby(['shipment_method_id'])['delivery_days'].mean()\n",
    "df_lp = pd.DataFrame({'shipment_method_id': df_lp.index, 'delivery_days':df_lp.values })\n",
    "#sorting based on the delivery days\n",
    "df_lp = df_lp.sort_values('delivery_days')\n",
    "df_lp[:5]"
   ]
  },
  {
   "cell_type": "code",
   "execution_count": 98,
   "id": "6c7a4764",
   "metadata": {},
   "outputs": [
    {
     "data": {
      "text/plain": [
       "<matplotlib.axes._subplots.AxesSubplot at 0x2726feedd88>"
      ]
     },
     "execution_count": 98,
     "metadata": {},
     "output_type": "execute_result"
    },
    {
     "data": {
      "image/png": "[encoded data removed]",
      "text/plain": [
       "<Figure size 864x504 with 1 Axes>"
      ]
     },
     "metadata": {
      "needs_background": "light"
     },
     "output_type": "display_data"
    }
   ],
   "source": [
    "#visualizing\n",
    "sns.barplot(x = df_lp['shipment_method_id'], y = df_lp['delivery_days'])"
   ]
  },
  {
   "cell_type": "markdown",
   "id": "d3594625",
   "metadata": {},
   "source": [
    "Shipment_method 13 is the best while 11 is the worst"
   ]
  },
  {
   "cell_type": "markdown",
   "id": "2d5550c0",
   "metadata": {},
   "source": [
    "### Does quantity affect the delivery days ?"
   ]
  },
  {
   "cell_type": "code",
   "execution_count": 100,
   "id": "921e1050",
   "metadata": {},
   "outputs": [
    {
     "data": {
      "text/html": [
       "<div>\n",
       "<style scoped>\n",
       "    .dataframe tbody tr th:only-of-type {\n",
       "        vertical-align: middle;\n",
       "    }\n",
       "\n",
       "    .dataframe tbody tr th {\n",
       "        vertical-align: top;\n",
       "    }\n",
       "\n",
       "    .dataframe thead th {\n",
       "        text-align: right;\n",
       "    }\n",
       "</style>\n",
       "<table border=\"1\" class=\"dataframe\">\n",
       "  <thead>\n",
       "    <tr style=\"text-align: right;\">\n",
       "      <th></th>\n",
       "      <th>quantity</th>\n",
       "      <th>delivery_days</th>\n",
       "    </tr>\n",
       "  </thead>\n",
       "  <tbody>\n",
       "    <tr>\n",
       "      <th>20</th>\n",
       "      <td>40</td>\n",
       "      <td>2.000000</td>\n",
       "    </tr>\n",
       "    <tr>\n",
       "      <th>19</th>\n",
       "      <td>24</td>\n",
       "      <td>3.000000</td>\n",
       "    </tr>\n",
       "    <tr>\n",
       "      <th>18</th>\n",
       "      <td>21</td>\n",
       "      <td>3.000000</td>\n",
       "    </tr>\n",
       "    <tr>\n",
       "      <th>11</th>\n",
       "      <td>13</td>\n",
       "      <td>3.000000</td>\n",
       "    </tr>\n",
       "    <tr>\n",
       "      <th>14</th>\n",
       "      <td>17</td>\n",
       "      <td>3.000000</td>\n",
       "    </tr>\n",
       "    <tr>\n",
       "      <th>15</th>\n",
       "      <td>18</td>\n",
       "      <td>3.000000</td>\n",
       "    </tr>\n",
       "    <tr>\n",
       "      <th>8</th>\n",
       "      <td>9</td>\n",
       "      <td>3.166667</td>\n",
       "    </tr>\n",
       "    <tr>\n",
       "      <th>13</th>\n",
       "      <td>15</td>\n",
       "      <td>3.833333</td>\n",
       "    </tr>\n",
       "    <tr>\n",
       "      <th>4</th>\n",
       "      <td>5</td>\n",
       "      <td>4.105263</td>\n",
       "    </tr>\n",
       "    <tr>\n",
       "      <th>3</th>\n",
       "      <td>4</td>\n",
       "      <td>4.201970</td>\n",
       "    </tr>\n",
       "  </tbody>\n",
       "</table>\n",
       "</div>"
      ],
      "text/plain": [
       "    quantity  delivery_days\n",
       "20        40       2.000000\n",
       "19        24       3.000000\n",
       "18        21       3.000000\n",
       "11        13       3.000000\n",
       "14        17       3.000000\n",
       "15        18       3.000000\n",
       "8          9       3.166667\n",
       "13        15       3.833333\n",
       "4          5       4.105263\n",
       "3          4       4.201970"
      ]
     },
     "execution_count": 100,
     "metadata": {},
     "output_type": "execute_result"
    }
   ],
   "source": [
    "df_q = df.groupby(['quantity'])['delivery_days'].mean()\n",
    "df_q = pd.DataFrame({'quantity': df_q.index, 'delivery_days':df_q.values })\n",
    "#sorting based on the delivery days\n",
    "df_q = df_q.sort_values('delivery_days')\n",
    "df_q[:10]"
   ]
  },
  {
   "cell_type": "code",
   "execution_count": 101,
   "id": "0923b14f",
   "metadata": {},
   "outputs": [
    {
     "data": {
      "text/plain": [
       "<matplotlib.axes._subplots.AxesSubplot at 0x27270244348>"
      ]
     },
     "execution_count": 101,
     "metadata": {},
     "output_type": "execute_result"
    },
    {
     "data": {
      "image/png": "[encoded data removed]",
      "text/plain": [
       "<Figure size 864x504 with 1 Axes>"
      ]
     },
     "metadata": {
      "needs_background": "light"
     },
     "output_type": "display_data"
    }
   ],
   "source": [
    "#visualizing\n",
    "sns.barplot(x  = df_q['quantity'], y = df_q['delivery_days'])"
   ]
  },
  {
   "cell_type": "markdown",
   "id": "d9d5e208",
   "metadata": {},
   "source": [
    "There seems to be no consistency between quantity shipped vs delivery days."
   ]
  },
  {
   "cell_type": "markdown",
   "id": "6dba3dea",
   "metadata": {},
   "source": [
    "# Feature engineering "
   ]
  },
  {
   "cell_type": "code",
   "execution_count": 60,
   "id": "03564634",
   "metadata": {},
   "outputs": [],
   "source": [
    "#again dropping unnecessary columns\n",
    "df = df[['b2c_c2c', 'declared_handling_days', 'shipment_method_id', 'shipping_fee',\n",
    "       'carrier_min_estimate', 'carrier_max_estimate',\n",
    "       'category_id', 'item_price', 'quantity',\n",
    "       'weight', 'weight_units', 'package_size',\n",
    "       'distance', 'delivery_days', 'del_to_pay']]"
   ]
  },
  {
   "cell_type": "code",
   "execution_count": 61,
   "id": "3a2d44da",
   "metadata": {},
   "outputs": [],
   "source": [
    "#encoding the data"
   ]
  },
  {
   "cell_type": "code",
   "execution_count": 62,
   "id": "44b731f8",
   "metadata": {},
   "outputs": [
    {
     "data": {
      "text/plain": [
       "B2C    33089\n",
       "C2C    13180\n",
       "Name: b2c_c2c, dtype: int64"
      ]
     },
     "execution_count": 62,
     "metadata": {},
     "output_type": "execute_result"
    }
   ],
   "source": [
    "df['b2c_c2c'].value_counts()"
   ]
  },
  {
   "cell_type": "code",
   "execution_count": 63,
   "id": "465e9791",
   "metadata": {},
   "outputs": [],
   "source": [
    "# converting C2C and B2C into 1, 2 respectively\n",
    "df['b2c_c2c'].replace(to_replace=['C2C','B2C'],value=[1,2],inplace=True)"
   ]
  },
  {
   "cell_type": "code",
   "execution_count": 64,
   "id": "71116d47",
   "metadata": {},
   "outputs": [
    {
     "data": {
      "text/plain": [
       "PACKAGE_THICK_ENVELOPE    38495\n",
       "NONE                       3821\n",
       "LETTER                     2719\n",
       "LARGE_ENVELOPE              719\n",
       "LARGE_PACKAGE               515\n",
       "Name: package_size, dtype: int64"
      ]
     },
     "execution_count": 64,
     "metadata": {},
     "output_type": "execute_result"
    }
   ],
   "source": [
    "df['package_size'].value_counts()"
   ]
  },
  {
   "cell_type": "code",
   "execution_count": 65,
   "id": "20f1ba0f",
   "metadata": {},
   "outputs": [],
   "source": [
    "# converting 'PACKAGE_THICK_ENVELOPE','NONE','LETTER','LARGE_ENVELOPE','LARGE_PACKAGE' into 2,3,1,4,5 besed on their tetative weights\n",
    "df['package_size'].replace(to_replace=['PACKAGE_THICK_ENVELOPE','NONE','LETTER','LARGE_ENVELOPE','LARGE_PACKAGE'],value=[2,3,1,4,5],inplace=True)"
   ]
  },
  {
   "cell_type": "code",
   "execution_count": 66,
   "id": "ce5c0574",
   "metadata": {},
   "outputs": [],
   "source": [
    "#removing records with pacakge size = EXTRA_LARGE_PACKAGE and VERY_LARGE_PACKAGE since they are not present in the test data\n",
    "df = df[df['package_size'] != 'EXTRA_LARGE_PACKAGE']\n",
    "df = df[df['package_size'] != 'VERY_LARGE_PACKAGE']"
   ]
  },
  {
   "cell_type": "code",
   "execution_count": 67,
   "id": "14ad1fe3",
   "metadata": {},
   "outputs": [
    {
     "data": {
      "text/plain": [
       "Index(['b2c_c2c', 'declared_handling_days', 'shipment_method_id',\n",
       "       'shipping_fee', 'carrier_min_estimate', 'carrier_max_estimate',\n",
       "       'category_id', 'item_price', 'quantity', 'weight', 'weight_units',\n",
       "       'package_size', 'distance', 'delivery_days', 'del_to_pay'],\n",
       "      dtype='object')"
      ]
     },
     "execution_count": 67,
     "metadata": {},
     "output_type": "execute_result"
    }
   ],
   "source": [
    "df.columns"
   ]
  },
  {
   "cell_type": "code",
   "execution_count": 68,
   "id": "e04c6eca",
   "metadata": {},
   "outputs": [
    {
     "data": {
      "text/html": [
       "<div>\n",
       "<style scoped>\n",
       "    .dataframe tbody tr th:only-of-type {\n",
       "        vertical-align: middle;\n",
       "    }\n",
       "\n",
       "    .dataframe tbody tr th {\n",
       "        vertical-align: top;\n",
       "    }\n",
       "\n",
       "    .dataframe thead th {\n",
       "        text-align: right;\n",
       "    }\n",
       "</style>\n",
       "<table border=\"1\" class=\"dataframe\">\n",
       "  <thead>\n",
       "    <tr style=\"text-align: right;\">\n",
       "      <th></th>\n",
       "      <th>b2c_c2c</th>\n",
       "      <th>declared_handling_days</th>\n",
       "      <th>shipment_method_id</th>\n",
       "      <th>shipping_fee</th>\n",
       "      <th>carrier_min_estimate</th>\n",
       "      <th>carrier_max_estimate</th>\n",
       "      <th>category_id</th>\n",
       "      <th>item_price</th>\n",
       "      <th>quantity</th>\n",
       "      <th>weight</th>\n",
       "      <th>weight_units</th>\n",
       "      <th>package_size</th>\n",
       "      <th>distance</th>\n",
       "      <th>delivery_days</th>\n",
       "      <th>del_to_pay</th>\n",
       "    </tr>\n",
       "  </thead>\n",
       "  <tbody>\n",
       "    <tr>\n",
       "      <th>25183</th>\n",
       "      <td>2</td>\n",
       "      <td>3.0</td>\n",
       "      <td>0</td>\n",
       "      <td>0.0</td>\n",
       "      <td>3</td>\n",
       "      <td>5</td>\n",
       "      <td>13</td>\n",
       "      <td>27.95</td>\n",
       "      <td>1</td>\n",
       "      <td>5</td>\n",
       "      <td>1</td>\n",
       "      <td>1</td>\n",
       "      <td>3001.315231</td>\n",
       "      <td>5</td>\n",
       "      <td>2</td>\n",
       "    </tr>\n",
       "    <tr>\n",
       "      <th>29970</th>\n",
       "      <td>1</td>\n",
       "      <td>2.0</td>\n",
       "      <td>0</td>\n",
       "      <td>3.0</td>\n",
       "      <td>3</td>\n",
       "      <td>5</td>\n",
       "      <td>0</td>\n",
       "      <td>20.50</td>\n",
       "      <td>1</td>\n",
       "      <td>0</td>\n",
       "      <td>1</td>\n",
       "      <td>2</td>\n",
       "      <td>1283.289669</td>\n",
       "      <td>4</td>\n",
       "      <td>1</td>\n",
       "    </tr>\n",
       "    <tr>\n",
       "      <th>26108</th>\n",
       "      <td>2</td>\n",
       "      <td>1.0</td>\n",
       "      <td>0</td>\n",
       "      <td>4.5</td>\n",
       "      <td>3</td>\n",
       "      <td>5</td>\n",
       "      <td>1</td>\n",
       "      <td>19.90</td>\n",
       "      <td>1</td>\n",
       "      <td>9</td>\n",
       "      <td>1</td>\n",
       "      <td>2</td>\n",
       "      <td>1114.013129</td>\n",
       "      <td>4</td>\n",
       "      <td>1</td>\n",
       "    </tr>\n",
       "    <tr>\n",
       "      <th>37044</th>\n",
       "      <td>2</td>\n",
       "      <td>1.0</td>\n",
       "      <td>0</td>\n",
       "      <td>0.0</td>\n",
       "      <td>3</td>\n",
       "      <td>5</td>\n",
       "      <td>1</td>\n",
       "      <td>35.50</td>\n",
       "      <td>1</td>\n",
       "      <td>8</td>\n",
       "      <td>1</td>\n",
       "      <td>2</td>\n",
       "      <td>1354.502549</td>\n",
       "      <td>5</td>\n",
       "      <td>1</td>\n",
       "    </tr>\n",
       "    <tr>\n",
       "      <th>27071</th>\n",
       "      <td>2</td>\n",
       "      <td>1.0</td>\n",
       "      <td>0</td>\n",
       "      <td>0.0</td>\n",
       "      <td>3</td>\n",
       "      <td>5</td>\n",
       "      <td>1</td>\n",
       "      <td>25.00</td>\n",
       "      <td>1</td>\n",
       "      <td>3</td>\n",
       "      <td>1</td>\n",
       "      <td>2</td>\n",
       "      <td>2457.524973</td>\n",
       "      <td>4</td>\n",
       "      <td>1</td>\n",
       "    </tr>\n",
       "  </tbody>\n",
       "</table>\n",
       "</div>"
      ],
      "text/plain": [
       "       b2c_c2c  declared_handling_days  shipment_method_id  shipping_fee  \\\n",
       "25183        2                     3.0                   0           0.0   \n",
       "29970        1                     2.0                   0           3.0   \n",
       "26108        2                     1.0                   0           4.5   \n",
       "37044        2                     1.0                   0           0.0   \n",
       "27071        2                     1.0                   0           0.0   \n",
       "\n",
       "       carrier_min_estimate  carrier_max_estimate  category_id  item_price  \\\n",
       "25183                     3                     5           13       27.95   \n",
       "29970                     3                     5            0       20.50   \n",
       "26108                     3                     5            1       19.90   \n",
       "37044                     3                     5            1       35.50   \n",
       "27071                     3                     5            1       25.00   \n",
       "\n",
       "       quantity  weight  weight_units  package_size     distance  \\\n",
       "25183         1       5             1             1  3001.315231   \n",
       "29970         1       0             1             2  1283.289669   \n",
       "26108         1       9             1             2  1114.013129   \n",
       "37044         1       8             1             2  1354.502549   \n",
       "27071         1       3             1             2  2457.524973   \n",
       "\n",
       "       delivery_days  del_to_pay  \n",
       "25183              5           2  \n",
       "29970              4           1  \n",
       "26108              4           1  \n",
       "37044              5           1  \n",
       "27071              4           1  "
      ]
     },
     "execution_count": 68,
     "metadata": {},
     "output_type": "execute_result"
    }
   ],
   "source": [
    "df.head(5)"
   ]
  },
  {
   "cell_type": "code",
   "execution_count": 69,
   "id": "88a6e62b",
   "metadata": {},
   "outputs": [],
   "source": [
    "# #saving as step 1 to save kernel memory\n",
    "# df.to_csv('step2.csv')"
   ]
  },
  {
   "cell_type": "code",
   "execution_count": 70,
   "id": "6f833b20",
   "metadata": {},
   "outputs": [],
   "source": [
    "import pandas as pd\n",
    "import numpy as np\n",
    "import matplotlib.pyplot as plt\n",
    "import seaborn as sns\n",
    "\n",
    "\n",
    "from sklearn.model_selection import train_test_split\n",
    "\n",
    "from sklearn.linear_model import LinearRegression\n",
    "\n",
    "from sklearn.metrics import mean_squared_error, r2_score"
   ]
  },
  {
   "cell_type": "code",
   "execution_count": 71,
   "id": "051c9ce2",
   "metadata": {},
   "outputs": [],
   "source": [
    "# df = pd.read_csv('step2.csv')"
   ]
  },
  {
   "cell_type": "code",
   "execution_count": 72,
   "id": "4eb915d8",
   "metadata": {},
   "outputs": [],
   "source": [
    "# df.drop('Unnamed: 0', axis = 1 , inplace = True)"
   ]
  },
  {
   "cell_type": "code",
   "execution_count": 73,
   "id": "d3e51e72",
   "metadata": {},
   "outputs": [
    {
     "name": "stdout",
     "output_type": "stream",
     "text": [
      "delivery_days             1.000000\n",
      "del_to_pay                0.819916\n",
      "declared_handling_days    0.281825\n",
      "carrier_max_estimate      0.165140\n",
      "category_id               0.092772\n",
      "distance                  0.074591\n",
      "shipment_method_id        0.064164\n",
      "package_size              0.052412\n",
      "shipping_fee              0.002192\n",
      "weight                   -0.000773\n",
      "item_price               -0.011109\n",
      "quantity                 -0.011250\n",
      "b2c_c2c                  -0.034423\n",
      "carrier_min_estimate     -0.062392\n",
      "weight_units                   NaN\n",
      "Name: delivery_days, dtype: float64\n"
     ]
    },
    {
     "data": {
      "image/png": "[encoded data removed]",
      "text/plain": [
       "<Figure size 720x576 with 2 Axes>"
      ]
     },
     "metadata": {
      "needs_background": "light"
     },
     "output_type": "display_data"
    }
   ],
   "source": [
    "#checking correlation\n",
    "corr_matrix = df.corr()\n",
    "print(corr_matrix['delivery_days'].sort_values(ascending=False))\n",
    "\n",
    "fig, ax = plt.subplots(figsize=(10,8))\n",
    "hm = sns.heatmap(corr_matrix, annot = True, linewidths=.5, ax = ax)"
   ]
  },
  {
   "cell_type": "code",
   "execution_count": 74,
   "id": "c2f4c31d",
   "metadata": {},
   "outputs": [],
   "source": [
    "#del_to_pay has good correlation with the target (delivery days)"
   ]
  },
  {
   "cell_type": "code",
   "execution_count": 75,
   "id": "319585e8",
   "metadata": {},
   "outputs": [
    {
     "data": {
      "image/png": "[encoded data removed]",
      "text/plain": [
       "<Figure size 1440x1080 with 16 Axes>"
      ]
     },
     "metadata": {
      "needs_background": "light"
     },
     "output_type": "display_data"
    }
   ],
   "source": [
    "#checking the distribution of all the columns\n",
    "%matplotlib inline\n",
    "\n",
    "df.hist(bins=50, figsize=(20,15))\n",
    "plt.savefig(\"attribute_histogram_plots\")\n",
    "plt.show()"
   ]
  },
  {
   "cell_type": "code",
   "execution_count": 76,
   "id": "43c60711",
   "metadata": {},
   "outputs": [],
   "source": [
    "#separating features and target\n",
    "x = df.drop(\"delivery_days\", axis = 1 )\n",
    "y = df['delivery_days']"
   ]
  },
  {
   "cell_type": "code",
   "execution_count": 77,
   "id": "4dbeb17a",
   "metadata": {},
   "outputs": [
    {
     "data": {
      "text/plain": [
       "Index(['b2c_c2c', 'declared_handling_days', 'shipment_method_id',\n",
       "       'shipping_fee', 'carrier_min_estimate', 'carrier_max_estimate',\n",
       "       'category_id', 'item_price', 'quantity', 'weight', 'weight_units',\n",
       "       'package_size', 'distance', 'del_to_pay'],\n",
       "      dtype='object')"
      ]
     },
     "execution_count": 77,
     "metadata": {},
     "output_type": "execute_result"
    }
   ],
   "source": [
    "x.columns"
   ]
  },
  {
   "cell_type": "code",
   "execution_count": null,
   "id": "e313de31",
   "metadata": {},
   "outputs": [],
   "source": []
  },
  {
   "cell_type": "code",
   "execution_count": 78,
   "id": "7bc9894c",
   "metadata": {},
   "outputs": [],
   "source": [
    "def loss_function(Yhat, Y):\n",
    "    Yhat = Yhat.astype(int)\n",
    "    Y = np.array(Y)\n",
    "    early_loss, late_loss = 0, 0\n",
    "\n",
    "    for i in range(len(Yhat)):\n",
    "        #print(i)\n",
    "    # early\n",
    "        if Yhat[i] < Y[i]:\n",
    "            early_loss += Y[i] - Yhat[i]\n",
    "\n",
    "    # late\n",
    "        elif Yhat[i] > Y[i]:\n",
    "            late_loss += Yhat[i] - Y[i]\n",
    "    loss = (1/len(Yhat)) * (0.4 * (early_loss) + 0.6 * (late_loss))\n",
    "\n",
    "    return loss"
   ]
  },
  {
   "cell_type": "code",
   "execution_count": null,
   "id": "5d42e29d",
   "metadata": {},
   "outputs": [],
   "source": []
  },
  {
   "cell_type": "code",
   "execution_count": null,
   "id": "f73bb255",
   "metadata": {},
   "outputs": [],
   "source": []
  },
  {
   "cell_type": "markdown",
   "id": "eaac98f0",
   "metadata": {},
   "source": [
    "Usin simple regression with 80 20 split"
   ]
  },
  {
   "cell_type": "code",
   "execution_count": 79,
   "id": "cb69c7f0",
   "metadata": {},
   "outputs": [],
   "source": [
    "X_train,X_test,y_train,y_test = train_test_split(x,y, test_size=0.2, random_state = 0, shuffle = False )"
   ]
  },
  {
   "cell_type": "code",
   "execution_count": 85,
   "id": "46910306",
   "metadata": {},
   "outputs": [
    {
     "name": "stdout",
     "output_type": "stream",
     "text": [
      "Test RMSE:  1.9799464036824794\n",
      "Test score:  0.47986112859107866\n",
      "Loss Function:  0.4577912254160364\n",
      "Train RMSE:  1.584540333644081\n",
      "Train score:  0.74623479922011\n",
      "Loss Function:  0.4532865054707551\n"
     ]
    }
   ],
   "source": [
    "#simple regression\n",
    "regressor = LinearRegression()\n",
    "\n",
    "regressor.fit(X_train, y_train)\n",
    "\n",
    "y_pred = regressor.predict(X_test)\n",
    "\n",
    "rmse = np.sqrt(mean_squared_error(y_test, y_pred))\n",
    "score = r2_score(y_test,y_pred)\n",
    "print(\"Test RMSE: \", rmse)\n",
    "print(\"Test score: \", score)\n",
    "print(\"Loss Function: \",loss_function(y_pred,y_test))\n",
    "\n",
    "y_pred_train = regressor.predict(X_train)\n",
    "rmse_train = np.sqrt(mean_squared_error(y_train, y_pred_train))\n",
    "print(\"Train RMSE: \", rmse_train)\n",
    "score_train = r2_score(y_train,y_pred_train)\n",
    "print(\"Train score: \", score_train)\n",
    "print(\"Loss Function: \",loss_function(y_pred_train,y_train))\n"
   ]
  },
  {
   "cell_type": "code",
   "execution_count": 36,
   "id": "a98741ad",
   "metadata": {},
   "outputs": [
    {
     "data": {
      "text/plain": [
       "['reg_simp.joblib']"
      ]
     },
     "execution_count": 36,
     "metadata": {},
     "output_type": "execute_result"
    }
   ],
   "source": [
    "# #saving regression model\n",
    "# from joblib import dump, load\n",
    "# dump(regressor, 'reg_simp.joblib')"
   ]
  },
  {
   "cell_type": "markdown",
   "id": "73cd88cb",
   "metadata": {},
   "source": [
    "using simple regression with no split"
   ]
  },
  {
   "cell_type": "code",
   "execution_count": 86,
   "id": "3667ba4b",
   "metadata": {},
   "outputs": [
    {
     "name": "stdout",
     "output_type": "stream",
     "text": [
      "Train RMSE:  1.666434084238392\n",
      "Train score:  0.7053088294519927\n",
      "Loss Function:  0.45653461280771146\n"
     ]
    }
   ],
   "source": [
    "regressor = LinearRegression()\n",
    "\n",
    "regressor.fit(x, y)\n",
    "\n",
    "y_pred = regressor.predict(x)\n",
    "\n",
    "rmse = np.sqrt(mean_squared_error(y, y_pred))\n",
    "score = r2_score(y,y_pred)\n",
    "print(\"Train RMSE: \", rmse)\n",
    "print(\"Train score: \", score)\n",
    "print(\"Loss Function: \",loss_function(y_pred,y))"
   ]
  },
  {
   "cell_type": "code",
   "execution_count": 38,
   "id": "46db98a1",
   "metadata": {},
   "outputs": [
    {
     "data": {
      "text/plain": [
       "['reg_simp_all.joblib']"
      ]
     },
     "execution_count": 38,
     "metadata": {},
     "output_type": "execute_result"
    }
   ],
   "source": [
    "#saving regression model\n",
    "from joblib import dump, load\n",
    "dump(regressor, 'reg_simp_all.joblib')"
   ]
  },
  {
   "cell_type": "markdown",
   "id": "d08aadf7",
   "metadata": {},
   "source": [
    "using L2 normalization"
   ]
  },
  {
   "cell_type": "code",
   "execution_count": 87,
   "id": "bf33a982",
   "metadata": {},
   "outputs": [
    {
     "name": "stdout",
     "output_type": "stream",
     "text": [
      "Train RMSE:  1.6664356267276332\n",
      "Train score:  0.7053082839060575\n",
      "Loss Function:  0.45655190300201\n"
     ]
    }
   ],
   "source": [
    "#ridge\n",
    "from sklearn.linear_model import Ridge\n",
    "regressor = Ridge(alpha=100)\n",
    "\n",
    "regressor.fit(x, y)\n",
    "\n",
    "y_pred = regressor.predict(x)\n",
    "\n",
    "rmse = np.sqrt(mean_squared_error(y, y_pred))\n",
    "score = r2_score(y,y_pred)\n",
    "print(\"Train RMSE: \", rmse)\n",
    "print(\"Train score: \", score)\n",
    "print(\"Loss Function: \",loss_function(y_pred,y))"
   ]
  },
  {
   "cell_type": "code",
   "execution_count": 27,
   "id": "e05d5867",
   "metadata": {},
   "outputs": [
    {
     "data": {
      "text/plain": [
       "['ridge_all.joblib']"
      ]
     },
     "execution_count": 27,
     "metadata": {},
     "output_type": "execute_result"
    }
   ],
   "source": [
    "# #saving ridge model\n",
    "# from joblib import dump, load\n",
    "# dump(regressor, 'ridge_all.joblib')"
   ]
  },
  {
   "cell_type": "code",
   "execution_count": null,
   "id": "a014867b",
   "metadata": {},
   "outputs": [],
   "source": []
  },
  {
   "cell_type": "code",
   "execution_count": 90,
   "id": "b0bb58e9",
   "metadata": {},
   "outputs": [],
   "source": [
    "from sklearn.preprocessing import StandardScaler\n",
    "from sklearn.pipeline import Pipeline\n",
    "\n",
    "pipeline = Pipeline([\n",
    "    ('std_scalar', StandardScaler())\n",
    "])\n",
    "\n",
    "X_train = pipeline.fit_transform(X_train)\n",
    "X_test = pipeline.transform(X_test)"
   ]
  },
  {
   "cell_type": "code",
   "execution_count": 91,
   "id": "15e61931",
   "metadata": {},
   "outputs": [
    {
     "name": "stdout",
     "output_type": "stream",
     "text": [
      "Train on 37015 samples, validate on 9254 samples\n",
      "Epoch 1/10\n",
      "37015/37015 [==============================] - 8s 207us/sample - loss: 3.3118 - val_loss: 4.5622\n",
      "Epoch 2/10\n",
      "37015/37015 [==============================] - 8s 208us/sample - loss: 2.5330 - val_loss: 4.0912\n",
      "Epoch 3/10\n",
      "37015/37015 [==============================] - 8s 209us/sample - loss: 2.5400 - val_loss: 3.4131\n",
      "Epoch 4/10\n",
      "37015/37015 [==============================] - 7s 190us/sample - loss: 2.5136 - val_loss: 3.7975\n",
      "Epoch 5/10\n",
      "37015/37015 [==============================] - 7s 189us/sample - loss: 2.4793 - val_loss: 3.7440\n",
      "Epoch 6/10\n",
      "37015/37015 [==============================] - 7s 201us/sample - loss: 2.4475 - val_loss: 3.4250\n",
      "Epoch 7/10\n",
      "37015/37015 [==============================] - 7s 191us/sample - loss: 2.4011 - val_loss: 3.9714\n",
      "Epoch 8/10\n",
      "37015/37015 [==============================] - 7s 183us/sample - loss: 2.3770 - val_loss: 3.2305\n",
      "Epoch 9/10\n",
      "37015/37015 [==============================] - 7s 187us/sample - loss: 2.3989 - val_loss: 3.6826\n",
      "Epoch 10/10\n",
      "37015/37015 [==============================] - 7s 189us/sample - loss: 2.4055 - val_loss: 3.8270\n"
     ]
    }
   ],
   "source": [
    "from tensorflow.keras.models import Sequential\n",
    "from tensorflow.keras.layers import Input, Dense, Activation, Dropout\n",
    "from tensorflow.keras.optimizers import Adam\n",
    "\n",
    "X_train = np.array(X_train)\n",
    "X_test = np.array(X_test)\n",
    "y_train = np.array(y_train)\n",
    "y_test = np.array(y_test)\n",
    "\n",
    "model = Sequential()\n",
    "\n",
    "model.add(Dense(X_train.shape[1], activation='elu'))\n",
    "model.add(Dense(32, activation='elu'))\n",
    "\n",
    "\n",
    "model.add(Dense(23, activation='elu'))\n",
    "\n",
    "\n",
    "model.add(Dense(28, activation='elu'))\n",
    "\n",
    "model.add(Dense(1))\n",
    "\n",
    "model.compile(optimizer=Adam(0.001), loss='mse')\n",
    "\n",
    "r = model.fit(X_train, y_train,\n",
    "              validation_data=(X_test,y_test),\n",
    "              batch_size=15,\n",
    "              epochs=10)"
   ]
  },
  {
   "cell_type": "code",
   "execution_count": 92,
   "id": "42715c8b",
   "metadata": {},
   "outputs": [],
   "source": [
    "pred_nn = model.predict(X_test)"
   ]
  },
  {
   "cell_type": "code",
   "execution_count": 93,
   "id": "498a70db",
   "metadata": {},
   "outputs": [
    {
     "data": {
      "text/plain": [
       "array([0.41895397])"
      ]
     },
     "execution_count": 93,
     "metadata": {},
     "output_type": "execute_result"
    }
   ],
   "source": [
    "loss_function(pred_nn,y_test)"
   ]
  }
 ],
 "metadata": {
  "kernelspec": {
   "display_name": "Python 3 (ipykernel)",
   "language": "python",
   "name": "python3"
  },
  "language_info": {
   "codemirror_mode": {
    "name": "ipython",
    "version": 3
   },
   "file_extension": ".py",
   "mimetype": "text/x-python",
   "name": "python",
   "nbconvert_exporter": "python",
   "pygments_lexer": "ipython3",
   "version": "3.9.7"
  },
  "toc": {
   "base_numbering": 1,
   "nav_menu": {},
   "number_sections": true,
   "sideBar": true,
   "skip_h1_title": false,
   "title_cell": "Table of Contents",
   "title_sidebar": "Contents",
   "toc_cell": false,
   "toc_position": {},
   "toc_section_display": true,
   "toc_window_display": false
  }
 },
 "nbformat": 4,
 "nbformat_minor": 5
}
